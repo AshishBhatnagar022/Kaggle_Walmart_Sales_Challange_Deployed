{
  "nbformat": 4,
  "nbformat_minor": 0,
  "metadata": {
    "colab": {
      "name": "Walmart Sales Challange.ipynb",
      "provenance": [],
      "collapsed_sections": []
    },
    "kernelspec": {
      "name": "python3",
      "display_name": "Python 3"
    }
  },
  "cells": [
    {
      "cell_type": "markdown",
      "metadata": {
        "id": "pMZyEht6fgRg"
      },
      "source": [
        "#Reading data"
      ]
    },
    {
      "cell_type": "code",
      "metadata": {
        "id": "OWf3mllOfZUL"
      },
      "source": [
        "import pandas as pd\n",
        "import numpy as np\n",
        "import matplotlib.pyplot as plt\n",
        "import seaborn as sns\n",
        "stores=pd.read_csv('drive/My Drive/walmart/stores.csv')\n",
        "features=pd.read_csv('drive/My Drive/walmart/features.csv')\n",
        "train=pd.read_csv('drive/My Drive/walmart/train.csv')"
      ],
      "execution_count": 25,
      "outputs": []
    },
    {
      "cell_type": "code",
      "metadata": {
        "id": "67_HGWp0gnNm",
        "outputId": "0930ec4e-ec8a-4563-8883-723170181cf0",
        "colab": {
          "base_uri": "https://localhost:8080/",
          "height": 204
        }
      },
      "source": [
        "stores.head()"
      ],
      "execution_count": 26,
      "outputs": [
        {
          "output_type": "execute_result",
          "data": {
            "text/html": [
              "<div>\n",
              "<style scoped>\n",
              "    .dataframe tbody tr th:only-of-type {\n",
              "        vertical-align: middle;\n",
              "    }\n",
              "\n",
              "    .dataframe tbody tr th {\n",
              "        vertical-align: top;\n",
              "    }\n",
              "\n",
              "    .dataframe thead th {\n",
              "        text-align: right;\n",
              "    }\n",
              "</style>\n",
              "<table border=\"1\" class=\"dataframe\">\n",
              "  <thead>\n",
              "    <tr style=\"text-align: right;\">\n",
              "      <th></th>\n",
              "      <th>Store</th>\n",
              "      <th>Type</th>\n",
              "      <th>Size</th>\n",
              "    </tr>\n",
              "  </thead>\n",
              "  <tbody>\n",
              "    <tr>\n",
              "      <th>0</th>\n",
              "      <td>1</td>\n",
              "      <td>A</td>\n",
              "      <td>151315</td>\n",
              "    </tr>\n",
              "    <tr>\n",
              "      <th>1</th>\n",
              "      <td>2</td>\n",
              "      <td>A</td>\n",
              "      <td>202307</td>\n",
              "    </tr>\n",
              "    <tr>\n",
              "      <th>2</th>\n",
              "      <td>3</td>\n",
              "      <td>B</td>\n",
              "      <td>37392</td>\n",
              "    </tr>\n",
              "    <tr>\n",
              "      <th>3</th>\n",
              "      <td>4</td>\n",
              "      <td>A</td>\n",
              "      <td>205863</td>\n",
              "    </tr>\n",
              "    <tr>\n",
              "      <th>4</th>\n",
              "      <td>5</td>\n",
              "      <td>B</td>\n",
              "      <td>34875</td>\n",
              "    </tr>\n",
              "  </tbody>\n",
              "</table>\n",
              "</div>"
            ],
            "text/plain": [
              "   Store Type    Size\n",
              "0      1    A  151315\n",
              "1      2    A  202307\n",
              "2      3    B   37392\n",
              "3      4    A  205863\n",
              "4      5    B   34875"
            ]
          },
          "metadata": {
            "tags": []
          },
          "execution_count": 26
        }
      ]
    },
    {
      "cell_type": "code",
      "metadata": {
        "id": "4OXfsyJzh64j",
        "outputId": "d8eac1d2-0300-4676-c6c7-5dc1a4061a2b",
        "colab": {
          "base_uri": "https://localhost:8080/",
          "height": 204
        }
      },
      "source": [
        "features.head()"
      ],
      "execution_count": 27,
      "outputs": [
        {
          "output_type": "execute_result",
          "data": {
            "text/html": [
              "<div>\n",
              "<style scoped>\n",
              "    .dataframe tbody tr th:only-of-type {\n",
              "        vertical-align: middle;\n",
              "    }\n",
              "\n",
              "    .dataframe tbody tr th {\n",
              "        vertical-align: top;\n",
              "    }\n",
              "\n",
              "    .dataframe thead th {\n",
              "        text-align: right;\n",
              "    }\n",
              "</style>\n",
              "<table border=\"1\" class=\"dataframe\">\n",
              "  <thead>\n",
              "    <tr style=\"text-align: right;\">\n",
              "      <th></th>\n",
              "      <th>Store</th>\n",
              "      <th>Date</th>\n",
              "      <th>Temperature</th>\n",
              "      <th>Fuel_Price</th>\n",
              "      <th>MarkDown1</th>\n",
              "      <th>MarkDown2</th>\n",
              "      <th>MarkDown3</th>\n",
              "      <th>MarkDown4</th>\n",
              "      <th>MarkDown5</th>\n",
              "      <th>CPI</th>\n",
              "      <th>Unemployment</th>\n",
              "      <th>IsHoliday</th>\n",
              "    </tr>\n",
              "  </thead>\n",
              "  <tbody>\n",
              "    <tr>\n",
              "      <th>0</th>\n",
              "      <td>1</td>\n",
              "      <td>2010-02-05</td>\n",
              "      <td>42.31</td>\n",
              "      <td>2.572</td>\n",
              "      <td>NaN</td>\n",
              "      <td>NaN</td>\n",
              "      <td>NaN</td>\n",
              "      <td>NaN</td>\n",
              "      <td>NaN</td>\n",
              "      <td>211.096358</td>\n",
              "      <td>8.106</td>\n",
              "      <td>False</td>\n",
              "    </tr>\n",
              "    <tr>\n",
              "      <th>1</th>\n",
              "      <td>1</td>\n",
              "      <td>2010-02-12</td>\n",
              "      <td>38.51</td>\n",
              "      <td>2.548</td>\n",
              "      <td>NaN</td>\n",
              "      <td>NaN</td>\n",
              "      <td>NaN</td>\n",
              "      <td>NaN</td>\n",
              "      <td>NaN</td>\n",
              "      <td>211.242170</td>\n",
              "      <td>8.106</td>\n",
              "      <td>True</td>\n",
              "    </tr>\n",
              "    <tr>\n",
              "      <th>2</th>\n",
              "      <td>1</td>\n",
              "      <td>2010-02-19</td>\n",
              "      <td>39.93</td>\n",
              "      <td>2.514</td>\n",
              "      <td>NaN</td>\n",
              "      <td>NaN</td>\n",
              "      <td>NaN</td>\n",
              "      <td>NaN</td>\n",
              "      <td>NaN</td>\n",
              "      <td>211.289143</td>\n",
              "      <td>8.106</td>\n",
              "      <td>False</td>\n",
              "    </tr>\n",
              "    <tr>\n",
              "      <th>3</th>\n",
              "      <td>1</td>\n",
              "      <td>2010-02-26</td>\n",
              "      <td>46.63</td>\n",
              "      <td>2.561</td>\n",
              "      <td>NaN</td>\n",
              "      <td>NaN</td>\n",
              "      <td>NaN</td>\n",
              "      <td>NaN</td>\n",
              "      <td>NaN</td>\n",
              "      <td>211.319643</td>\n",
              "      <td>8.106</td>\n",
              "      <td>False</td>\n",
              "    </tr>\n",
              "    <tr>\n",
              "      <th>4</th>\n",
              "      <td>1</td>\n",
              "      <td>2010-03-05</td>\n",
              "      <td>46.50</td>\n",
              "      <td>2.625</td>\n",
              "      <td>NaN</td>\n",
              "      <td>NaN</td>\n",
              "      <td>NaN</td>\n",
              "      <td>NaN</td>\n",
              "      <td>NaN</td>\n",
              "      <td>211.350143</td>\n",
              "      <td>8.106</td>\n",
              "      <td>False</td>\n",
              "    </tr>\n",
              "  </tbody>\n",
              "</table>\n",
              "</div>"
            ],
            "text/plain": [
              "   Store        Date  Temperature  ...         CPI  Unemployment  IsHoliday\n",
              "0      1  2010-02-05        42.31  ...  211.096358         8.106      False\n",
              "1      1  2010-02-12        38.51  ...  211.242170         8.106       True\n",
              "2      1  2010-02-19        39.93  ...  211.289143         8.106      False\n",
              "3      1  2010-02-26        46.63  ...  211.319643         8.106      False\n",
              "4      1  2010-03-05        46.50  ...  211.350143         8.106      False\n",
              "\n",
              "[5 rows x 12 columns]"
            ]
          },
          "metadata": {
            "tags": []
          },
          "execution_count": 27
        }
      ]
    },
    {
      "cell_type": "code",
      "metadata": {
        "id": "Y3D-xOOsh_qG",
        "outputId": "5eac99b0-cd13-499a-a594-2122f1843d8c",
        "colab": {
          "base_uri": "https://localhost:8080/",
          "height": 204
        }
      },
      "source": [
        "train.head()"
      ],
      "execution_count": 28,
      "outputs": [
        {
          "output_type": "execute_result",
          "data": {
            "text/html": [
              "<div>\n",
              "<style scoped>\n",
              "    .dataframe tbody tr th:only-of-type {\n",
              "        vertical-align: middle;\n",
              "    }\n",
              "\n",
              "    .dataframe tbody tr th {\n",
              "        vertical-align: top;\n",
              "    }\n",
              "\n",
              "    .dataframe thead th {\n",
              "        text-align: right;\n",
              "    }\n",
              "</style>\n",
              "<table border=\"1\" class=\"dataframe\">\n",
              "  <thead>\n",
              "    <tr style=\"text-align: right;\">\n",
              "      <th></th>\n",
              "      <th>Store</th>\n",
              "      <th>Dept</th>\n",
              "      <th>Date</th>\n",
              "      <th>Weekly_Sales</th>\n",
              "      <th>IsHoliday</th>\n",
              "    </tr>\n",
              "  </thead>\n",
              "  <tbody>\n",
              "    <tr>\n",
              "      <th>0</th>\n",
              "      <td>1</td>\n",
              "      <td>1</td>\n",
              "      <td>2010-02-05</td>\n",
              "      <td>24924.50</td>\n",
              "      <td>False</td>\n",
              "    </tr>\n",
              "    <tr>\n",
              "      <th>1</th>\n",
              "      <td>1</td>\n",
              "      <td>1</td>\n",
              "      <td>2010-02-12</td>\n",
              "      <td>46039.49</td>\n",
              "      <td>True</td>\n",
              "    </tr>\n",
              "    <tr>\n",
              "      <th>2</th>\n",
              "      <td>1</td>\n",
              "      <td>1</td>\n",
              "      <td>2010-02-19</td>\n",
              "      <td>41595.55</td>\n",
              "      <td>False</td>\n",
              "    </tr>\n",
              "    <tr>\n",
              "      <th>3</th>\n",
              "      <td>1</td>\n",
              "      <td>1</td>\n",
              "      <td>2010-02-26</td>\n",
              "      <td>19403.54</td>\n",
              "      <td>False</td>\n",
              "    </tr>\n",
              "    <tr>\n",
              "      <th>4</th>\n",
              "      <td>1</td>\n",
              "      <td>1</td>\n",
              "      <td>2010-03-05</td>\n",
              "      <td>21827.90</td>\n",
              "      <td>False</td>\n",
              "    </tr>\n",
              "  </tbody>\n",
              "</table>\n",
              "</div>"
            ],
            "text/plain": [
              "   Store  Dept        Date  Weekly_Sales  IsHoliday\n",
              "0      1     1  2010-02-05      24924.50      False\n",
              "1      1     1  2010-02-12      46039.49       True\n",
              "2      1     1  2010-02-19      41595.55      False\n",
              "3      1     1  2010-02-26      19403.54      False\n",
              "4      1     1  2010-03-05      21827.90      False"
            ]
          },
          "metadata": {
            "tags": []
          },
          "execution_count": 28
        }
      ]
    },
    {
      "cell_type": "code",
      "metadata": {
        "id": "IhfdT8UriFhK",
        "outputId": "abe162b9-9c65-4801-a9b6-45b45646af02",
        "colab": {
          "base_uri": "https://localhost:8080/",
          "height": 68
        }
      },
      "source": [
        "print(train.shape)\n",
        "print(features.shape)\n",
        "print(stores.shape)"
      ],
      "execution_count": 29,
      "outputs": [
        {
          "output_type": "stream",
          "text": [
            "(421570, 5)\n",
            "(8190, 12)\n",
            "(45, 3)\n"
          ],
          "name": "stdout"
        }
      ]
    },
    {
      "cell_type": "code",
      "metadata": {
        "id": "1_LJHwevie88",
        "outputId": "3b2ae1bc-cb13-4f92-970e-a89802c1bdff",
        "colab": {
          "base_uri": "https://localhost:8080/",
          "height": 326
        }
      },
      "source": [
        "df = train.merge(stores, how='left').merge(features, how='left')\n",
        "print(df.shape)\n",
        "df.head()"
      ],
      "execution_count": 30,
      "outputs": [
        {
          "output_type": "stream",
          "text": [
            "(421570, 16)\n"
          ],
          "name": "stdout"
        },
        {
          "output_type": "execute_result",
          "data": {
            "text/html": [
              "<div>\n",
              "<style scoped>\n",
              "    .dataframe tbody tr th:only-of-type {\n",
              "        vertical-align: middle;\n",
              "    }\n",
              "\n",
              "    .dataframe tbody tr th {\n",
              "        vertical-align: top;\n",
              "    }\n",
              "\n",
              "    .dataframe thead th {\n",
              "        text-align: right;\n",
              "    }\n",
              "</style>\n",
              "<table border=\"1\" class=\"dataframe\">\n",
              "  <thead>\n",
              "    <tr style=\"text-align: right;\">\n",
              "      <th></th>\n",
              "      <th>Store</th>\n",
              "      <th>Dept</th>\n",
              "      <th>Date</th>\n",
              "      <th>Weekly_Sales</th>\n",
              "      <th>IsHoliday</th>\n",
              "      <th>Type</th>\n",
              "      <th>Size</th>\n",
              "      <th>Temperature</th>\n",
              "      <th>Fuel_Price</th>\n",
              "      <th>MarkDown1</th>\n",
              "      <th>MarkDown2</th>\n",
              "      <th>MarkDown3</th>\n",
              "      <th>MarkDown4</th>\n",
              "      <th>MarkDown5</th>\n",
              "      <th>CPI</th>\n",
              "      <th>Unemployment</th>\n",
              "    </tr>\n",
              "  </thead>\n",
              "  <tbody>\n",
              "    <tr>\n",
              "      <th>0</th>\n",
              "      <td>1</td>\n",
              "      <td>1</td>\n",
              "      <td>2010-02-05</td>\n",
              "      <td>24924.50</td>\n",
              "      <td>False</td>\n",
              "      <td>A</td>\n",
              "      <td>151315</td>\n",
              "      <td>42.31</td>\n",
              "      <td>2.572</td>\n",
              "      <td>NaN</td>\n",
              "      <td>NaN</td>\n",
              "      <td>NaN</td>\n",
              "      <td>NaN</td>\n",
              "      <td>NaN</td>\n",
              "      <td>211.096358</td>\n",
              "      <td>8.106</td>\n",
              "    </tr>\n",
              "    <tr>\n",
              "      <th>1</th>\n",
              "      <td>1</td>\n",
              "      <td>1</td>\n",
              "      <td>2010-02-12</td>\n",
              "      <td>46039.49</td>\n",
              "      <td>True</td>\n",
              "      <td>A</td>\n",
              "      <td>151315</td>\n",
              "      <td>38.51</td>\n",
              "      <td>2.548</td>\n",
              "      <td>NaN</td>\n",
              "      <td>NaN</td>\n",
              "      <td>NaN</td>\n",
              "      <td>NaN</td>\n",
              "      <td>NaN</td>\n",
              "      <td>211.242170</td>\n",
              "      <td>8.106</td>\n",
              "    </tr>\n",
              "    <tr>\n",
              "      <th>2</th>\n",
              "      <td>1</td>\n",
              "      <td>1</td>\n",
              "      <td>2010-02-19</td>\n",
              "      <td>41595.55</td>\n",
              "      <td>False</td>\n",
              "      <td>A</td>\n",
              "      <td>151315</td>\n",
              "      <td>39.93</td>\n",
              "      <td>2.514</td>\n",
              "      <td>NaN</td>\n",
              "      <td>NaN</td>\n",
              "      <td>NaN</td>\n",
              "      <td>NaN</td>\n",
              "      <td>NaN</td>\n",
              "      <td>211.289143</td>\n",
              "      <td>8.106</td>\n",
              "    </tr>\n",
              "    <tr>\n",
              "      <th>3</th>\n",
              "      <td>1</td>\n",
              "      <td>1</td>\n",
              "      <td>2010-02-26</td>\n",
              "      <td>19403.54</td>\n",
              "      <td>False</td>\n",
              "      <td>A</td>\n",
              "      <td>151315</td>\n",
              "      <td>46.63</td>\n",
              "      <td>2.561</td>\n",
              "      <td>NaN</td>\n",
              "      <td>NaN</td>\n",
              "      <td>NaN</td>\n",
              "      <td>NaN</td>\n",
              "      <td>NaN</td>\n",
              "      <td>211.319643</td>\n",
              "      <td>8.106</td>\n",
              "    </tr>\n",
              "    <tr>\n",
              "      <th>4</th>\n",
              "      <td>1</td>\n",
              "      <td>1</td>\n",
              "      <td>2010-03-05</td>\n",
              "      <td>21827.90</td>\n",
              "      <td>False</td>\n",
              "      <td>A</td>\n",
              "      <td>151315</td>\n",
              "      <td>46.50</td>\n",
              "      <td>2.625</td>\n",
              "      <td>NaN</td>\n",
              "      <td>NaN</td>\n",
              "      <td>NaN</td>\n",
              "      <td>NaN</td>\n",
              "      <td>NaN</td>\n",
              "      <td>211.350143</td>\n",
              "      <td>8.106</td>\n",
              "    </tr>\n",
              "  </tbody>\n",
              "</table>\n",
              "</div>"
            ],
            "text/plain": [
              "   Store  Dept        Date  ...  MarkDown5         CPI Unemployment\n",
              "0      1     1  2010-02-05  ...        NaN  211.096358        8.106\n",
              "1      1     1  2010-02-12  ...        NaN  211.242170        8.106\n",
              "2      1     1  2010-02-19  ...        NaN  211.289143        8.106\n",
              "3      1     1  2010-02-26  ...        NaN  211.319643        8.106\n",
              "4      1     1  2010-03-05  ...        NaN  211.350143        8.106\n",
              "\n",
              "[5 rows x 16 columns]"
            ]
          },
          "metadata": {
            "tags": []
          },
          "execution_count": 30
        }
      ]
    },
    {
      "cell_type": "markdown",
      "metadata": {
        "id": "rFVFJfE86vrU"
      },
      "source": [
        "Final data after Joining the three tables"
      ]
    },
    {
      "cell_type": "markdown",
      "metadata": {
        "id": "vJr681pw7AN7"
      },
      "source": [
        "##Exploratory Data Analysis"
      ]
    },
    {
      "cell_type": "markdown",
      "metadata": {
        "id": "GHe1pQzfVfH7"
      },
      "source": [
        "####Checking for Missing values"
      ]
    },
    {
      "cell_type": "code",
      "metadata": {
        "id": "dKy0ZLtOiuJP",
        "outputId": "58fdd5bc-caac-483e-fb34-dbf99cb0be43",
        "colab": {
          "base_uri": "https://localhost:8080/",
          "height": 306
        }
      },
      "source": [
        "df.isnull().sum()"
      ],
      "execution_count": 31,
      "outputs": [
        {
          "output_type": "execute_result",
          "data": {
            "text/plain": [
              "Store                0\n",
              "Dept                 0\n",
              "Date                 0\n",
              "Weekly_Sales         0\n",
              "IsHoliday            0\n",
              "Type                 0\n",
              "Size                 0\n",
              "Temperature          0\n",
              "Fuel_Price           0\n",
              "MarkDown1       270889\n",
              "MarkDown2       310322\n",
              "MarkDown3       284479\n",
              "MarkDown4       286603\n",
              "MarkDown5       270138\n",
              "CPI                  0\n",
              "Unemployment         0\n",
              "dtype: int64"
            ]
          },
          "metadata": {
            "tags": []
          },
          "execution_count": 31
        }
      ]
    },
    {
      "cell_type": "code",
      "metadata": {
        "id": "H4RBnxZeiz2y",
        "outputId": "ccaf4e55-7007-40c2-bbcd-adf6169a3a23",
        "colab": {
          "base_uri": "https://localhost:8080/",
          "height": 102
        }
      },
      "source": [
        "features_with_na=[features for features in df.columns if df[features].isnull().sum()>1]\n",
        "#print the feature name and the percentage of missing values\n",
        "\n",
        "for feature in features_with_na:\n",
        "    print(feature, np.round(df[feature].isnull().mean(), 4),  ' % missing values')"
      ],
      "execution_count": 32,
      "outputs": [
        {
          "output_type": "stream",
          "text": [
            "MarkDown1 0.6426  % missing values\n",
            "MarkDown2 0.7361  % missing values\n",
            "MarkDown3 0.6748  % missing values\n",
            "MarkDown4 0.6798  % missing values\n",
            "MarkDown5 0.6408  % missing values\n"
          ],
          "name": "stdout"
        }
      ]
    },
    {
      "cell_type": "code",
      "metadata": {
        "id": "uCYoSHluj8GQ",
        "outputId": "de8e7d57-094a-4bfa-aeea-c3e7bd89a7f4",
        "colab": {
          "base_uri": "https://localhost:8080/",
          "height": 1000
        }
      },
      "source": [
        "for feature in features_with_na:\n",
        "    data = df.copy()\n",
        "    \n",
        "    # let's make a variable that indicates 1 if the observation was missing or zero otherwise\n",
        "    data[feature] = np.where(data[feature].isnull(), 1, 0)\n",
        "    \n",
        "    # let's calculate the mean Weekly_Sales where the information is missing or present\n",
        "    data.groupby(feature)['Weekly_Sales'].median().plot.bar()\n",
        "    plt.title(feature)\n",
        "    plt.show()"
      ],
      "execution_count": 33,
      "outputs": [
        {
          "output_type": "display_data",
          "data": {
            "image/png": "[encoded data removed]",
            "text/plain": [
              "<Figure size 432x288 with 1 Axes>"
            ]
          },
          "metadata": {
            "tags": [],
            "needs_background": "light"
          }
        },
        {
          "output_type": "display_data",
          "data": {
            "image/png": "[encoded data removed]",
            "text/plain": [
              "<Figure size 432x288 with 1 Axes>"
            ]
          },
          "metadata": {
            "tags": [],
            "needs_background": "light"
          }
        },
        {
          "output_type": "display_data",
          "data": {
            "image/png": "[encoded data removed]",
            "text/plain": [
              "<Figure size 432x288 with 1 Axes>"
            ]
          },
          "metadata": {
            "tags": [],
            "needs_background": "light"
          }
        },
        {
          "output_type": "display_data",
          "data": {
            "image/png": "[encoded data removed]",
            "text/plain": [
              "<Figure size 432x288 with 1 Axes>"
            ]
          },
          "metadata": {
            "tags": [],
            "needs_background": "light"
          }
        },
        {
          "output_type": "display_data",
          "data": {
            "image/png": "[encoded data removed]",
            "text/plain": [
              "<Figure size 432x288 with 1 Axes>"
            ]
          },
          "metadata": {
            "tags": [],
            "needs_background": "light"
          }
        }
      ]
    },
    {
      "cell_type": "markdown",
      "metadata": {
        "id": "pitEbnE9V2U6"
      },
      "source": [
        "As we can see that Missing values has some relation with Weekly Sales price so we have to impute the missing values carefully."
      ]
    },
    {
      "cell_type": "code",
      "metadata": {
        "id": "yfO2fYfrkrck",
        "outputId": "43025d10-fd6d-43f6-d21c-4c2d727047fb",
        "colab": {
          "base_uri": "https://localhost:8080/",
          "height": 221
        }
      },
      "source": [
        "\n",
        "# list of numerical variables\n",
        "numerical_features = [feature for feature in df.columns if (df[feature].dtypes != 'O') and (df[feature].dtypes != 'bool')]\n",
        "\n",
        "print('Number of numerical variables: ', len(numerical_features))\n",
        "\n",
        "df[numerical_features].head()"
      ],
      "execution_count": 34,
      "outputs": [
        {
          "output_type": "stream",
          "text": [
            "Number of numerical variables:  13\n"
          ],
          "name": "stdout"
        },
        {
          "output_type": "execute_result",
          "data": {
            "text/html": [
              "<div>\n",
              "<style scoped>\n",
              "    .dataframe tbody tr th:only-of-type {\n",
              "        vertical-align: middle;\n",
              "    }\n",
              "\n",
              "    .dataframe tbody tr th {\n",
              "        vertical-align: top;\n",
              "    }\n",
              "\n",
              "    .dataframe thead th {\n",
              "        text-align: right;\n",
              "    }\n",
              "</style>\n",
              "<table border=\"1\" class=\"dataframe\">\n",
              "  <thead>\n",
              "    <tr style=\"text-align: right;\">\n",
              "      <th></th>\n",
              "      <th>Store</th>\n",
              "      <th>Dept</th>\n",
              "      <th>Weekly_Sales</th>\n",
              "      <th>Size</th>\n",
              "      <th>Temperature</th>\n",
              "      <th>Fuel_Price</th>\n",
              "      <th>MarkDown1</th>\n",
              "      <th>MarkDown2</th>\n",
              "      <th>MarkDown3</th>\n",
              "      <th>MarkDown4</th>\n",
              "      <th>MarkDown5</th>\n",
              "      <th>CPI</th>\n",
              "      <th>Unemployment</th>\n",
              "    </tr>\n",
              "  </thead>\n",
              "  <tbody>\n",
              "    <tr>\n",
              "      <th>0</th>\n",
              "      <td>1</td>\n",
              "      <td>1</td>\n",
              "      <td>24924.50</td>\n",
              "      <td>151315</td>\n",
              "      <td>42.31</td>\n",
              "      <td>2.572</td>\n",
              "      <td>NaN</td>\n",
              "      <td>NaN</td>\n",
              "      <td>NaN</td>\n",
              "      <td>NaN</td>\n",
              "      <td>NaN</td>\n",
              "      <td>211.096358</td>\n",
              "      <td>8.106</td>\n",
              "    </tr>\n",
              "    <tr>\n",
              "      <th>1</th>\n",
              "      <td>1</td>\n",
              "      <td>1</td>\n",
              "      <td>46039.49</td>\n",
              "      <td>151315</td>\n",
              "      <td>38.51</td>\n",
              "      <td>2.548</td>\n",
              "      <td>NaN</td>\n",
              "      <td>NaN</td>\n",
              "      <td>NaN</td>\n",
              "      <td>NaN</td>\n",
              "      <td>NaN</td>\n",
              "      <td>211.242170</td>\n",
              "      <td>8.106</td>\n",
              "    </tr>\n",
              "    <tr>\n",
              "      <th>2</th>\n",
              "      <td>1</td>\n",
              "      <td>1</td>\n",
              "      <td>41595.55</td>\n",
              "      <td>151315</td>\n",
              "      <td>39.93</td>\n",
              "      <td>2.514</td>\n",
              "      <td>NaN</td>\n",
              "      <td>NaN</td>\n",
              "      <td>NaN</td>\n",
              "      <td>NaN</td>\n",
              "      <td>NaN</td>\n",
              "      <td>211.289143</td>\n",
              "      <td>8.106</td>\n",
              "    </tr>\n",
              "    <tr>\n",
              "      <th>3</th>\n",
              "      <td>1</td>\n",
              "      <td>1</td>\n",
              "      <td>19403.54</td>\n",
              "      <td>151315</td>\n",
              "      <td>46.63</td>\n",
              "      <td>2.561</td>\n",
              "      <td>NaN</td>\n",
              "      <td>NaN</td>\n",
              "      <td>NaN</td>\n",
              "      <td>NaN</td>\n",
              "      <td>NaN</td>\n",
              "      <td>211.319643</td>\n",
              "      <td>8.106</td>\n",
              "    </tr>\n",
              "    <tr>\n",
              "      <th>4</th>\n",
              "      <td>1</td>\n",
              "      <td>1</td>\n",
              "      <td>21827.90</td>\n",
              "      <td>151315</td>\n",
              "      <td>46.50</td>\n",
              "      <td>2.625</td>\n",
              "      <td>NaN</td>\n",
              "      <td>NaN</td>\n",
              "      <td>NaN</td>\n",
              "      <td>NaN</td>\n",
              "      <td>NaN</td>\n",
              "      <td>211.350143</td>\n",
              "      <td>8.106</td>\n",
              "    </tr>\n",
              "  </tbody>\n",
              "</table>\n",
              "</div>"
            ],
            "text/plain": [
              "   Store  Dept  Weekly_Sales  ...  MarkDown5         CPI  Unemployment\n",
              "0      1     1      24924.50  ...        NaN  211.096358         8.106\n",
              "1      1     1      46039.49  ...        NaN  211.242170         8.106\n",
              "2      1     1      41595.55  ...        NaN  211.289143         8.106\n",
              "3      1     1      19403.54  ...        NaN  211.319643         8.106\n",
              "4      1     1      21827.90  ...        NaN  211.350143         8.106\n",
              "\n",
              "[5 rows x 13 columns]"
            ]
          },
          "metadata": {
            "tags": []
          },
          "execution_count": 34
        }
      ]
    },
    {
      "cell_type": "code",
      "metadata": {
        "id": "ksha1BpepPBx",
        "outputId": "8c8ca8cf-15af-4dc2-f27b-201b6d820e08",
        "colab": {
          "base_uri": "https://localhost:8080/",
          "height": 306
        }
      },
      "source": [
        "df.dtypes"
      ],
      "execution_count": 35,
      "outputs": [
        {
          "output_type": "execute_result",
          "data": {
            "text/plain": [
              "Store             int64\n",
              "Dept              int64\n",
              "Date             object\n",
              "Weekly_Sales    float64\n",
              "IsHoliday          bool\n",
              "Type             object\n",
              "Size              int64\n",
              "Temperature     float64\n",
              "Fuel_Price      float64\n",
              "MarkDown1       float64\n",
              "MarkDown2       float64\n",
              "MarkDown3       float64\n",
              "MarkDown4       float64\n",
              "MarkDown5       float64\n",
              "CPI             float64\n",
              "Unemployment    float64\n",
              "dtype: object"
            ]
          },
          "metadata": {
            "tags": []
          },
          "execution_count": 35
        }
      ]
    },
    {
      "cell_type": "code",
      "metadata": {
        "id": "wDupPjrsGpBU",
        "outputId": "045f111e-850c-4f63-badb-faf1702d576c",
        "colab": {
          "base_uri": "https://localhost:8080/",
          "height": 34
        }
      },
      "source": [
        "## Numerical variables are usually of 2 type\n",
        "#1. Continous variable and Discrete Variables\n",
        "\n",
        "discrete_feature=[feature for feature in numerical_features if (df[feature].dtypes == 'int') ]\n",
        "print(\"Discrete Variables Count: {}\".format(len(discrete_feature)))\n"
      ],
      "execution_count": 36,
      "outputs": [
        {
          "output_type": "stream",
          "text": [
            "Discrete Variables Count: 3\n"
          ],
          "name": "stdout"
        }
      ]
    },
    {
      "cell_type": "code",
      "metadata": {
        "id": "xUq0-fb4G-ZF",
        "outputId": "c13ada7a-9ed9-44a8-a63b-6ca0055478ec",
        "colab": {
          "base_uri": "https://localhost:8080/",
          "height": 34
        }
      },
      "source": [
        "discrete_feature"
      ],
      "execution_count": 37,
      "outputs": [
        {
          "output_type": "execute_result",
          "data": {
            "text/plain": [
              "['Store', 'Dept', 'Size']"
            ]
          },
          "metadata": {
            "tags": []
          },
          "execution_count": 37
        }
      ]
    },
    {
      "cell_type": "code",
      "metadata": {
        "id": "qTe4OKCVvC3U",
        "outputId": "4a8dcc4f-c065-45f9-b4df-db59348b50ae",
        "colab": {
          "base_uri": "https://localhost:8080/",
          "height": 1000
        }
      },
      "source": [
        "## Lets Find the realtionship between them and Weekly_Sales Price\n",
        "\n",
        "for feature in discrete_feature:\n",
        "    plt.figure(figsize=(10,10))\n",
        "\n",
        "    data=df.copy()\n",
        "    data.groupby(feature)['Weekly_Sales'].median().plot.bar()\n",
        "    plt.xlabel(feature)\n",
        "    plt.ylabel('SalePrice')\n",
        "    plt.title(feature)\n",
        "    plt.show()"
      ],
      "execution_count": 38,
      "outputs": [
        {
          "output_type": "display_data",
          "data": {
            "image/png": "[encoded data removed]",
            "text/plain": [
              "<Figure size 720x720 with 1 Axes>"
            ]
          },
          "metadata": {
            "tags": [],
            "needs_background": "light"
          }
        },
        {
          "output_type": "display_data",
          "data": {
            "image/png": "[encoded data removed]",
            "text/plain": [
              "<Figure size 720x720 with 1 Axes>"
            ]
          },
          "metadata": {
            "tags": [],
            "needs_background": "light"
          }
        },
        {
          "output_type": "display_data",
          "data": {
            "image/png": "[encoded data removed]",
            "text/plain": [
              "<Figure size 720x720 with 1 Axes>"
            ]
          },
          "metadata": {
            "tags": [],
            "needs_background": "light"
          }
        }
      ]
    },
    {
      "cell_type": "code",
      "metadata": {
        "id": "oBSbfozCHKU4",
        "outputId": "ededdffe-0165-41a8-9ea4-99622f4a82af",
        "colab": {
          "base_uri": "https://localhost:8080/",
          "height": 34
        }
      },
      "source": [
        "continuous_feature=[feature for feature in numerical_features if feature not in discrete_feature]\n",
        "print(\"Continuous feature Count {}\".format(len(continuous_feature)))"
      ],
      "execution_count": 39,
      "outputs": [
        {
          "output_type": "stream",
          "text": [
            "Continuous feature Count 10\n"
          ],
          "name": "stdout"
        }
      ]
    },
    {
      "cell_type": "code",
      "metadata": {
        "id": "wm5KSFH0X_11",
        "outputId": "4c370f60-88ad-49c4-cd2c-00b43ff8c964",
        "colab": {
          "base_uri": "https://localhost:8080/",
          "height": 102
        }
      },
      "source": [
        "df['Size'].unique()"
      ],
      "execution_count": 40,
      "outputs": [
        {
          "output_type": "execute_result",
          "data": {
            "text/plain": [
              "array([151315, 202307,  37392, 205863,  34875, 202505,  70713, 155078,\n",
              "       125833, 126512, 207499, 112238, 219622, 200898, 123737,  57197,\n",
              "        93188, 120653, 203819, 203742, 140167, 119557, 114533, 128107,\n",
              "       152513, 204184, 206302,  93638,  42988, 203750, 203007,  39690,\n",
              "       158114, 103681,  39910, 184109, 155083, 196321,  41062, 118221])"
            ]
          },
          "metadata": {
            "tags": []
          },
          "execution_count": 40
        }
      ]
    },
    {
      "cell_type": "code",
      "metadata": {
        "id": "M9TJwm3dhSGN",
        "outputId": "c0cad371-d3f7-4e27-d74e-680b4e5b1b55",
        "colab": {
          "base_uri": "https://localhost:8080/",
          "height": 34
        }
      },
      "source": [
        "# df.groupby('Store')['Size'].median().plot.bar()\n",
        "len(df['Store'].value_counts())\n",
        "len(df['Dept'].value_counts())"
      ],
      "execution_count": 41,
      "outputs": [
        {
          "output_type": "execute_result",
          "data": {
            "text/plain": [
              "81"
            ]
          },
          "metadata": {
            "tags": []
          },
          "execution_count": 41
        }
      ]
    },
    {
      "cell_type": "code",
      "metadata": {
        "id": "M9avHmHPHOrp",
        "outputId": "60cc600f-39c9-486d-c7c4-529f934c2e82",
        "colab": {
          "base_uri": "https://localhost:8080/",
          "height": 204
        }
      },
      "source": [
        "df[continuous_feature].head()"
      ],
      "execution_count": 42,
      "outputs": [
        {
          "output_type": "execute_result",
          "data": {
            "text/html": [
              "<div>\n",
              "<style scoped>\n",
              "    .dataframe tbody tr th:only-of-type {\n",
              "        vertical-align: middle;\n",
              "    }\n",
              "\n",
              "    .dataframe tbody tr th {\n",
              "        vertical-align: top;\n",
              "    }\n",
              "\n",
              "    .dataframe thead th {\n",
              "        text-align: right;\n",
              "    }\n",
              "</style>\n",
              "<table border=\"1\" class=\"dataframe\">\n",
              "  <thead>\n",
              "    <tr style=\"text-align: right;\">\n",
              "      <th></th>\n",
              "      <th>Weekly_Sales</th>\n",
              "      <th>Temperature</th>\n",
              "      <th>Fuel_Price</th>\n",
              "      <th>MarkDown1</th>\n",
              "      <th>MarkDown2</th>\n",
              "      <th>MarkDown3</th>\n",
              "      <th>MarkDown4</th>\n",
              "      <th>MarkDown5</th>\n",
              "      <th>CPI</th>\n",
              "      <th>Unemployment</th>\n",
              "    </tr>\n",
              "  </thead>\n",
              "  <tbody>\n",
              "    <tr>\n",
              "      <th>0</th>\n",
              "      <td>24924.50</td>\n",
              "      <td>42.31</td>\n",
              "      <td>2.572</td>\n",
              "      <td>NaN</td>\n",
              "      <td>NaN</td>\n",
              "      <td>NaN</td>\n",
              "      <td>NaN</td>\n",
              "      <td>NaN</td>\n",
              "      <td>211.096358</td>\n",
              "      <td>8.106</td>\n",
              "    </tr>\n",
              "    <tr>\n",
              "      <th>1</th>\n",
              "      <td>46039.49</td>\n",
              "      <td>38.51</td>\n",
              "      <td>2.548</td>\n",
              "      <td>NaN</td>\n",
              "      <td>NaN</td>\n",
              "      <td>NaN</td>\n",
              "      <td>NaN</td>\n",
              "      <td>NaN</td>\n",
              "      <td>211.242170</td>\n",
              "      <td>8.106</td>\n",
              "    </tr>\n",
              "    <tr>\n",
              "      <th>2</th>\n",
              "      <td>41595.55</td>\n",
              "      <td>39.93</td>\n",
              "      <td>2.514</td>\n",
              "      <td>NaN</td>\n",
              "      <td>NaN</td>\n",
              "      <td>NaN</td>\n",
              "      <td>NaN</td>\n",
              "      <td>NaN</td>\n",
              "      <td>211.289143</td>\n",
              "      <td>8.106</td>\n",
              "    </tr>\n",
              "    <tr>\n",
              "      <th>3</th>\n",
              "      <td>19403.54</td>\n",
              "      <td>46.63</td>\n",
              "      <td>2.561</td>\n",
              "      <td>NaN</td>\n",
              "      <td>NaN</td>\n",
              "      <td>NaN</td>\n",
              "      <td>NaN</td>\n",
              "      <td>NaN</td>\n",
              "      <td>211.319643</td>\n",
              "      <td>8.106</td>\n",
              "    </tr>\n",
              "    <tr>\n",
              "      <th>4</th>\n",
              "      <td>21827.90</td>\n",
              "      <td>46.50</td>\n",
              "      <td>2.625</td>\n",
              "      <td>NaN</td>\n",
              "      <td>NaN</td>\n",
              "      <td>NaN</td>\n",
              "      <td>NaN</td>\n",
              "      <td>NaN</td>\n",
              "      <td>211.350143</td>\n",
              "      <td>8.106</td>\n",
              "    </tr>\n",
              "  </tbody>\n",
              "</table>\n",
              "</div>"
            ],
            "text/plain": [
              "   Weekly_Sales  Temperature  Fuel_Price  ...  MarkDown5         CPI  Unemployment\n",
              "0      24924.50        42.31       2.572  ...        NaN  211.096358         8.106\n",
              "1      46039.49        38.51       2.548  ...        NaN  211.242170         8.106\n",
              "2      41595.55        39.93       2.514  ...        NaN  211.289143         8.106\n",
              "3      19403.54        46.63       2.561  ...        NaN  211.319643         8.106\n",
              "4      21827.90        46.50       2.625  ...        NaN  211.350143         8.106\n",
              "\n",
              "[5 rows x 10 columns]"
            ]
          },
          "metadata": {
            "tags": []
          },
          "execution_count": 42
        }
      ]
    },
    {
      "cell_type": "code",
      "metadata": {
        "id": "FzS53KZGHcYI",
        "outputId": "6406bc23-70f0-4c75-a25d-862857d8191d",
        "colab": {
          "base_uri": "https://localhost:8080/",
          "height": 1000
        }
      },
      "source": [
        "## Lets analyse the continuous values by creating histograms to understand the distribution\n",
        "\n",
        "for feature in continuous_feature:\n",
        "    data=df.copy()\n",
        "    data[feature].hist(bins=25)\n",
        "    plt.xlabel(feature)\n",
        "    plt.ylabel(\"Count\")\n",
        "    plt.title(feature)\n",
        "    plt.show()"
      ],
      "execution_count": 43,
      "outputs": [
        {
          "output_type": "display_data",
          "data": {
            "image/png": "[encoded data removed]",
            "text/plain": [
              "<Figure size 432x288 with 1 Axes>"
            ]
          },
          "metadata": {
            "tags": [],
            "needs_background": "light"
          }
        },
        {
          "output_type": "display_data",
          "data": {
            "image/png": "[encoded data removed]",
            "text/plain": [
              "<Figure size 432x288 with 1 Axes>"
            ]
          },
          "metadata": {
            "tags": [],
            "needs_background": "light"
          }
        },
        {
          "output_type": "display_data",
          "data": {
            "image/png": "[encoded data removed]",
            "text/plain": [
              "<Figure size 432x288 with 1 Axes>"
            ]
          },
          "metadata": {
            "tags": [],
            "needs_background": "light"
          }
        },
        {
          "output_type": "display_data",
          "data": {
            "image/png": "[encoded data removed]",
            "text/plain": [
              "<Figure size 432x288 with 1 Axes>"
            ]
          },
          "metadata": {
            "tags": [],
            "needs_background": "light"
          }
        },
        {
          "output_type": "display_data",
          "data": {
            "image/png": "[encoded data removed]",
            "text/plain": [
              "<Figure size 432x288 with 1 Axes>"
            ]
          },
          "metadata": {
            "tags": [],
            "needs_background": "light"
          }
        },
        {
          "output_type": "display_data",
          "data": {
            "image/png": "[encoded data removed]",
            "text/plain": [
              "<Figure size 432x288 with 1 Axes>"
            ]
          },
          "metadata": {
            "tags": [],
            "needs_background": "light"
          }
        },
        {
          "output_type": "display_data",
          "data": {
            "image/png": "[encoded data removed]",
            "text/plain": [
              "<Figure size 432x288 with 1 Axes>"
            ]
          },
          "metadata": {
            "tags": [],
            "needs_background": "light"
          }
        },
        {
          "output_type": "display_data",
          "data": {
            "image/png": "[encoded data removed]",
            "text/plain": [
              "<Figure size 432x288 with 1 Axes>"
            ]
          },
          "metadata": {
            "tags": [],
            "needs_background": "light"
          }
        },
        {
          "output_type": "display_data",
          "data": {
            "image/png": "[encoded data removed]",
            "text/plain": [
              "<Figure size 432x288 with 1 Axes>"
            ]
          },
          "metadata": {
            "tags": [],
            "needs_background": "light"
          }
        },
        {
          "output_type": "display_data",
          "data": {
            "image/png": "[encoded data removed]",
            "text/plain": [
              "<Figure size 432x288 with 1 Axes>"
            ]
          },
          "metadata": {
            "tags": [],
            "needs_background": "light"
          }
        }
      ]
    },
    {
      "cell_type": "code",
      "metadata": {
        "id": "2TCuD4QmJJbt",
        "outputId": "c94bacab-d232-4f22-8e20-bca246dad6ea",
        "colab": {
          "base_uri": "https://localhost:8080/",
          "height": 1000
        }
      },
      "source": [
        "for feature in continuous_feature:\n",
        "    data=df.copy()\n",
        "    if 0 in data[feature].unique():\n",
        "        pass\n",
        "    else:\n",
        "        data[feature]=np.log(data[feature])\n",
        "        data.boxplot(column=feature)\n",
        "        plt.ylabel(feature)\n",
        "        plt.title(feature)\n",
        "        plt.show()"
      ],
      "execution_count": 44,
      "outputs": [
        {
          "output_type": "stream",
          "text": [
            "/usr/local/lib/python3.6/dist-packages/pandas/core/series.py:726: RuntimeWarning: invalid value encountered in log\n",
            "  result = getattr(ufunc, method)(*inputs, **kwargs)\n"
          ],
          "name": "stderr"
        },
        {
          "output_type": "display_data",
          "data": {
            "image/png": "[encoded data removed]",
            "text/plain": [
              "<Figure size 432x288 with 1 Axes>"
            ]
          },
          "metadata": {
            "tags": [],
            "needs_background": "light"
          }
        },
        {
          "output_type": "display_data",
          "data": {
            "image/png": "[encoded data removed]",
            "text/plain": [
              "<Figure size 432x288 with 1 Axes>"
            ]
          },
          "metadata": {
            "tags": [],
            "needs_background": "light"
          }
        },
        {
          "output_type": "display_data",
          "data": {
            "image/png": "[encoded data removed]",
            "text/plain": [
              "<Figure size 432x288 with 1 Axes>"
            ]
          },
          "metadata": {
            "tags": [],
            "needs_background": "light"
          }
        },
        {
          "output_type": "display_data",
          "data": {
            "image/png": "[encoded data removed]",
            "text/plain": [
              "<Figure size 432x288 with 1 Axes>"
            ]
          },
          "metadata": {
            "tags": [],
            "needs_background": "light"
          }
        },
        {
          "output_type": "display_data",
          "data": {
            "image/png": "[encoded data removed]",
            "text/plain": [
              "<Figure size 432x288 with 1 Axes>"
            ]
          },
          "metadata": {
            "tags": [],
            "needs_background": "light"
          }
        },
        {
          "output_type": "display_data",
          "data": {
            "image/png": "[encoded data removed]",
            "text/plain": [
              "<Figure size 432x288 with 1 Axes>"
            ]
          },
          "metadata": {
            "tags": [],
            "needs_background": "light"
          }
        },
        {
          "output_type": "display_data",
          "data": {
            "image/png": "[encoded data removed]",
            "text/plain": [
              "<Figure size 432x288 with 1 Axes>"
            ]
          },
          "metadata": {
            "tags": [],
            "needs_background": "light"
          }
        }
      ]
    },
    {
      "cell_type": "markdown",
      "metadata": {
        "id": "uKD7qkIT2SHc"
      },
      "source": [
        "As we can see there are many Outliers present in the continous features."
      ]
    },
    {
      "cell_type": "code",
      "metadata": {
        "id": "Cem8wcWCJ6tc",
        "outputId": "356f03b8-02d2-441d-97c6-bc83b2ab271e",
        "colab": {
          "base_uri": "https://localhost:8080/",
          "height": 34
        }
      },
      "source": [
        "categorical_features=[feature for feature in df.columns if (df[feature].dtypes=='O') or  (df[feature].dtypes=='bool') if feature not in 'Date']\n",
        "categorical_features"
      ],
      "execution_count": 45,
      "outputs": [
        {
          "output_type": "execute_result",
          "data": {
            "text/plain": [
              "['IsHoliday', 'Type']"
            ]
          },
          "metadata": {
            "tags": []
          },
          "execution_count": 45
        }
      ]
    },
    {
      "cell_type": "code",
      "metadata": {
        "id": "aWvhIJV9Kgwo",
        "outputId": "583f194b-4bee-4505-c87e-15ed7efc3ee5",
        "colab": {
          "base_uri": "https://localhost:8080/",
          "height": 204
        }
      },
      "source": [
        "df[categorical_features].head()"
      ],
      "execution_count": 46,
      "outputs": [
        {
          "output_type": "execute_result",
          "data": {
            "text/html": [
              "<div>\n",
              "<style scoped>\n",
              "    .dataframe tbody tr th:only-of-type {\n",
              "        vertical-align: middle;\n",
              "    }\n",
              "\n",
              "    .dataframe tbody tr th {\n",
              "        vertical-align: top;\n",
              "    }\n",
              "\n",
              "    .dataframe thead th {\n",
              "        text-align: right;\n",
              "    }\n",
              "</style>\n",
              "<table border=\"1\" class=\"dataframe\">\n",
              "  <thead>\n",
              "    <tr style=\"text-align: right;\">\n",
              "      <th></th>\n",
              "      <th>IsHoliday</th>\n",
              "      <th>Type</th>\n",
              "    </tr>\n",
              "  </thead>\n",
              "  <tbody>\n",
              "    <tr>\n",
              "      <th>0</th>\n",
              "      <td>False</td>\n",
              "      <td>A</td>\n",
              "    </tr>\n",
              "    <tr>\n",
              "      <th>1</th>\n",
              "      <td>True</td>\n",
              "      <td>A</td>\n",
              "    </tr>\n",
              "    <tr>\n",
              "      <th>2</th>\n",
              "      <td>False</td>\n",
              "      <td>A</td>\n",
              "    </tr>\n",
              "    <tr>\n",
              "      <th>3</th>\n",
              "      <td>False</td>\n",
              "      <td>A</td>\n",
              "    </tr>\n",
              "    <tr>\n",
              "      <th>4</th>\n",
              "      <td>False</td>\n",
              "      <td>A</td>\n",
              "    </tr>\n",
              "  </tbody>\n",
              "</table>\n",
              "</div>"
            ],
            "text/plain": [
              "   IsHoliday Type\n",
              "0      False    A\n",
              "1       True    A\n",
              "2      False    A\n",
              "3      False    A\n",
              "4      False    A"
            ]
          },
          "metadata": {
            "tags": []
          },
          "execution_count": 46
        }
      ]
    },
    {
      "cell_type": "code",
      "metadata": {
        "id": "2GuUJ_HhLGpa",
        "outputId": "d3be391d-8e10-48c6-d5ed-e94ba6576b56",
        "colab": {
          "base_uri": "https://localhost:8080/",
          "height": 51
        }
      },
      "source": [
        "for feature in categorical_features:\n",
        "    print('The feature is {} and number of categories are {}'.format(feature,len(df[feature].unique())))"
      ],
      "execution_count": 47,
      "outputs": [
        {
          "output_type": "stream",
          "text": [
            "The feature is IsHoliday and number of categories are 2\n",
            "The feature is Type and number of categories are 3\n"
          ],
          "name": "stdout"
        }
      ]
    },
    {
      "cell_type": "code",
      "metadata": {
        "id": "BmKUqQrVLSWn",
        "outputId": "fad96244-1747-4e05-bb8d-87806b408d65",
        "colab": {
          "base_uri": "https://localhost:8080/",
          "height": 586
        }
      },
      "source": [
        "for feature in categorical_features:\n",
        "    data=df.copy()\n",
        "    data.groupby(feature)['Weekly_Sales'].median().plot.bar()\n",
        "    plt.xlabel(feature)\n",
        "    plt.ylabel('SalePrice')\n",
        "    plt.title(feature)\n",
        "    plt.show()"
      ],
      "execution_count": 48,
      "outputs": [
        {
          "output_type": "display_data",
          "data": {
            "image/png": "[encoded data removed]",
            "text/plain": [
              "<Figure size 432x288 with 1 Axes>"
            ]
          },
          "metadata": {
            "tags": [],
            "needs_background": "light"
          }
        },
        {
          "output_type": "display_data",
          "data": {
            "image/png": "[encoded data removed]",
            "text/plain": [
              "<Figure size 432x288 with 1 Axes>"
            ]
          },
          "metadata": {
            "tags": [],
            "needs_background": "light"
          }
        }
      ]
    },
    {
      "cell_type": "markdown",
      "metadata": {
        "id": "tmMWZtbX2hBl"
      },
      "source": [
        "Now lets explore the date feature"
      ]
    },
    {
      "cell_type": "code",
      "metadata": {
        "id": "3vZqf4UkRYSV",
        "outputId": "0d8f268d-4470-4c4d-9db7-acec6ed8c5d7",
        "colab": {
          "base_uri": "https://localhost:8080/",
          "height": 85
        }
      },
      "source": [
        "df['year']=pd.DatetimeIndex(df['Date']).year\n",
        "df['month']=pd.DatetimeIndex(df['Date']).month\n",
        "df['day']=pd.DatetimeIndex(df['Date']).day\n",
        "\n",
        "\n",
        "df['year'].value_counts()"
      ],
      "execution_count": 49,
      "outputs": [
        {
          "output_type": "execute_result",
          "data": {
            "text/plain": [
              "2011    153453\n",
              "2010    140679\n",
              "2012    127438\n",
              "Name: year, dtype: int64"
            ]
          },
          "metadata": {
            "tags": []
          },
          "execution_count": 49
        }
      ]
    },
    {
      "cell_type": "code",
      "metadata": {
        "id": "mWpJHraERpUz",
        "outputId": "c40e0c09-e739-4a30-b972-edfc63e6d1ad",
        "colab": {
          "base_uri": "https://localhost:8080/",
          "height": 367
        }
      },
      "source": [
        "plt.figure(figsize=(10,5))\n",
        "\n",
        "df.groupby(df['year'])['Weekly_Sales'].median().plot()\n",
        "\n",
        "plt.xlabel('Year')\n",
        "plt.ylabel('Median Weekly Sales')\n",
        "plt.title(\"Weekly_Sales vs Year\")\n"
      ],
      "execution_count": 50,
      "outputs": [
        {
          "output_type": "execute_result",
          "data": {
            "text/plain": [
              "Text(0.5, 1.0, 'Weekly_Sales vs Year')"
            ]
          },
          "metadata": {
            "tags": []
          },
          "execution_count": 50
        },
        {
          "output_type": "display_data",
          "data": {
            "image/png": "[encoded data removed]",
            "text/plain": [
              "<Figure size 720x360 with 1 Axes>"
            ]
          },
          "metadata": {
            "tags": [],
            "needs_background": "light"
          }
        }
      ]
    },
    {
      "cell_type": "markdown",
      "metadata": {
        "id": "2DTRcrpy5Unr"
      },
      "source": [
        "From this graph we can see as we go on from year 2010 to 2012, there is a decrease in the Weekly sales"
      ]
    },
    {
      "cell_type": "code",
      "metadata": {
        "id": "ZiaMIUakR48-",
        "outputId": "2ea1601e-0418-43c2-acbb-fcf58fde0aca",
        "colab": {
          "base_uri": "https://localhost:8080/",
          "height": 367
        }
      },
      "source": [
        "plt.figure(figsize=(10,5))\n",
        "\n",
        "df.groupby(df['month'])['Weekly_Sales'].median().plot()\n",
        "\n",
        "plt.xlabel('Months')\n",
        "plt.ylabel('Median Weekly Sales')\n",
        "plt.title(\"Weekly_Sales vs Months\")\n"
      ],
      "execution_count": 51,
      "outputs": [
        {
          "output_type": "execute_result",
          "data": {
            "text/plain": [
              "Text(0.5, 1.0, 'Weekly_Sales vs Months')"
            ]
          },
          "metadata": {
            "tags": []
          },
          "execution_count": 51
        },
        {
          "output_type": "display_data",
          "data": {
            "image/png": "[encoded data removed]",
            "text/plain": [
              "<Figure size 720x360 with 1 Axes>"
            ]
          },
          "metadata": {
            "tags": [],
            "needs_background": "light"
          }
        }
      ]
    },
    {
      "cell_type": "markdown",
      "metadata": {
        "id": "V5IHgkHP6HWn"
      },
      "source": [
        "As we can observe that the Weekly Sales is high in the month of November and December"
      ]
    },
    {
      "cell_type": "code",
      "metadata": {
        "id": "Wrs_OJLETtOx",
        "outputId": "391d9cb1-9e05-4e79-8dbe-9ca3311fa070",
        "colab": {
          "base_uri": "https://localhost:8080/",
          "height": 367
        }
      },
      "source": [
        "plt.figure(figsize=(10,5))\n",
        "\n",
        "df.groupby(df['day'])['Weekly_Sales'].median().plot()\n",
        "\n",
        "plt.xlabel('Days')\n",
        "plt.ylabel('Median Weekly Sales')\n",
        "plt.title(\"Weekly_Sales vs Days\")\n"
      ],
      "execution_count": 52,
      "outputs": [
        {
          "output_type": "execute_result",
          "data": {
            "text/plain": [
              "Text(0.5, 1.0, 'Weekly_Sales vs Days')"
            ]
          },
          "metadata": {
            "tags": []
          },
          "execution_count": 52
        },
        {
          "output_type": "display_data",
          "data": {
            "image/png": "[encoded data removed]",
            "text/plain": [
              "<Figure size 720x360 with 1 Axes>"
            ]
          },
          "metadata": {
            "tags": [],
            "needs_background": "light"
          }
        }
      ]
    },
    {
      "cell_type": "markdown",
      "metadata": {
        "id": "bPRl5YBW6mkB"
      },
      "source": [
        ""
      ]
    },
    {
      "cell_type": "code",
      "metadata": {
        "id": "R47ViBOO6l7V"
      },
      "source": [
        ""
      ],
      "execution_count": 52,
      "outputs": []
    },
    {
      "cell_type": "code",
      "metadata": {
        "id": "hsl6i8YmsfUs"
      },
      "source": [
        "for feature in features_with_na:\n",
        "  df[feature].fillna(df[feature].median(),inplace=True)"
      ],
      "execution_count": 53,
      "outputs": []
    },
    {
      "cell_type": "code",
      "metadata": {
        "id": "LIVsbRZ7KcpD",
        "outputId": "9cef6e21-d30b-499c-d9bd-53b3109f722b",
        "colab": {
          "base_uri": "https://localhost:8080/",
          "height": 679
        }
      },
      "source": [
        "# sns.heatmap(df.corr(), annot = True,)\n",
        "fig, ax = plt.subplots(figsize=(15,10))         # Sample figsize in inches\n",
        "sns.heatmap(df.corr(), annot=True, linewidths=.5, ax=ax,fmt='.1g')"
      ],
      "execution_count": 54,
      "outputs": [
        {
          "output_type": "execute_result",
          "data": {
            "text/plain": [
              "<matplotlib.axes._subplots.AxesSubplot at 0x7fdb120afef0>"
            ]
          },
          "metadata": {
            "tags": []
          },
          "execution_count": 54
        },
        {
          "output_type": "display_data",
          "data": {
            "image/png": "[encoded data removed]",
            "text/plain": [
              "<Figure size 1080x720 with 2 Axes>"
            ]
          },
          "metadata": {
            "tags": [],
            "needs_background": "light"
          }
        }
      ]
    },
    {
      "cell_type": "code",
      "metadata": {
        "id": "Xh-3IWn5MmGb",
        "outputId": "1c98520f-67bb-4979-b3fe-d425fd012078",
        "colab": {
          "base_uri": "https://localhost:8080/",
          "height": 596
        }
      },
      "source": [
        "df.corr()"
      ],
      "execution_count": 55,
      "outputs": [
        {
          "output_type": "execute_result",
          "data": {
            "text/html": [
              "<div>\n",
              "<style scoped>\n",
              "    .dataframe tbody tr th:only-of-type {\n",
              "        vertical-align: middle;\n",
              "    }\n",
              "\n",
              "    .dataframe tbody tr th {\n",
              "        vertical-align: top;\n",
              "    }\n",
              "\n",
              "    .dataframe thead th {\n",
              "        text-align: right;\n",
              "    }\n",
              "</style>\n",
              "<table border=\"1\" class=\"dataframe\">\n",
              "  <thead>\n",
              "    <tr style=\"text-align: right;\">\n",
              "      <th></th>\n",
              "      <th>Store</th>\n",
              "      <th>Dept</th>\n",
              "      <th>Weekly_Sales</th>\n",
              "      <th>IsHoliday</th>\n",
              "      <th>Size</th>\n",
              "      <th>Temperature</th>\n",
              "      <th>Fuel_Price</th>\n",
              "      <th>MarkDown1</th>\n",
              "      <th>MarkDown2</th>\n",
              "      <th>MarkDown3</th>\n",
              "      <th>MarkDown4</th>\n",
              "      <th>MarkDown5</th>\n",
              "      <th>CPI</th>\n",
              "      <th>Unemployment</th>\n",
              "      <th>year</th>\n",
              "      <th>month</th>\n",
              "      <th>day</th>\n",
              "    </tr>\n",
              "  </thead>\n",
              "  <tbody>\n",
              "    <tr>\n",
              "      <th>Store</th>\n",
              "      <td>1.000000</td>\n",
              "      <td>0.024004</td>\n",
              "      <td>-0.085195</td>\n",
              "      <td>-0.000548</td>\n",
              "      <td>-0.182881</td>\n",
              "      <td>-0.050097</td>\n",
              "      <td>0.065290</td>\n",
              "      <td>-0.070700</td>\n",
              "      <td>-0.032997</td>\n",
              "      <td>-0.020293</td>\n",
              "      <td>-0.027762</td>\n",
              "      <td>-0.015393</td>\n",
              "      <td>-0.211088</td>\n",
              "      <td>0.208552</td>\n",
              "      <td>0.002997</td>\n",
              "      <td>0.001011</td>\n",
              "      <td>-0.000015</td>\n",
              "    </tr>\n",
              "    <tr>\n",
              "      <th>Dept</th>\n",
              "      <td>0.024004</td>\n",
              "      <td>1.000000</td>\n",
              "      <td>0.148032</td>\n",
              "      <td>0.000916</td>\n",
              "      <td>-0.002966</td>\n",
              "      <td>0.004437</td>\n",
              "      <td>0.003572</td>\n",
              "      <td>-0.000587</td>\n",
              "      <td>0.000564</td>\n",
              "      <td>0.001468</td>\n",
              "      <td>0.002169</td>\n",
              "      <td>0.000896</td>\n",
              "      <td>-0.007477</td>\n",
              "      <td>0.007837</td>\n",
              "      <td>0.003738</td>\n",
              "      <td>0.000904</td>\n",
              "      <td>-0.000678</td>\n",
              "    </tr>\n",
              "    <tr>\n",
              "      <th>Weekly_Sales</th>\n",
              "      <td>-0.085195</td>\n",
              "      <td>0.148032</td>\n",
              "      <td>1.000000</td>\n",
              "      <td>0.012774</td>\n",
              "      <td>0.243828</td>\n",
              "      <td>-0.002312</td>\n",
              "      <td>-0.000120</td>\n",
              "      <td>0.052739</td>\n",
              "      <td>0.020342</td>\n",
              "      <td>0.038524</td>\n",
              "      <td>0.033820</td>\n",
              "      <td>0.055702</td>\n",
              "      <td>-0.020921</td>\n",
              "      <td>-0.025864</td>\n",
              "      <td>-0.010111</td>\n",
              "      <td>0.028409</td>\n",
              "      <td>-0.006187</td>\n",
              "    </tr>\n",
              "    <tr>\n",
              "      <th>IsHoliday</th>\n",
              "      <td>-0.000548</td>\n",
              "      <td>0.000916</td>\n",
              "      <td>0.012774</td>\n",
              "      <td>1.000000</td>\n",
              "      <td>0.000593</td>\n",
              "      <td>-0.155949</td>\n",
              "      <td>-0.078281</td>\n",
              "      <td>-0.017418</td>\n",
              "      <td>0.207562</td>\n",
              "      <td>0.266464</td>\n",
              "      <td>0.006756</td>\n",
              "      <td>-0.029169</td>\n",
              "      <td>-0.001944</td>\n",
              "      <td>0.010460</td>\n",
              "      <td>-0.056746</td>\n",
              "      <td>0.123376</td>\n",
              "      <td>0.045465</td>\n",
              "    </tr>\n",
              "    <tr>\n",
              "      <th>Size</th>\n",
              "      <td>-0.182881</td>\n",
              "      <td>-0.002966</td>\n",
              "      <td>0.243828</td>\n",
              "      <td>0.000593</td>\n",
              "      <td>1.000000</td>\n",
              "      <td>-0.058313</td>\n",
              "      <td>0.003361</td>\n",
              "      <td>0.203202</td>\n",
              "      <td>0.077080</td>\n",
              "      <td>0.033534</td>\n",
              "      <td>0.112056</td>\n",
              "      <td>0.179588</td>\n",
              "      <td>-0.003314</td>\n",
              "      <td>-0.068238</td>\n",
              "      <td>-0.004975</td>\n",
              "      <td>-0.001210</td>\n",
              "      <td>-0.000386</td>\n",
              "    </tr>\n",
              "    <tr>\n",
              "      <th>Temperature</th>\n",
              "      <td>-0.050097</td>\n",
              "      <td>0.004437</td>\n",
              "      <td>-0.002312</td>\n",
              "      <td>-0.155949</td>\n",
              "      <td>-0.058313</td>\n",
              "      <td>1.000000</td>\n",
              "      <td>0.143859</td>\n",
              "      <td>-0.025144</td>\n",
              "      <td>-0.179142</td>\n",
              "      <td>-0.055968</td>\n",
              "      <td>-0.044688</td>\n",
              "      <td>-0.011890</td>\n",
              "      <td>0.182112</td>\n",
              "      <td>0.096730</td>\n",
              "      <td>0.065814</td>\n",
              "      <td>0.235983</td>\n",
              "      <td>0.026832</td>\n",
              "    </tr>\n",
              "    <tr>\n",
              "      <th>Fuel_Price</th>\n",
              "      <td>0.065290</td>\n",
              "      <td>0.003572</td>\n",
              "      <td>-0.000120</td>\n",
              "      <td>-0.078281</td>\n",
              "      <td>0.003361</td>\n",
              "      <td>0.143859</td>\n",
              "      <td>1.000000</td>\n",
              "      <td>0.110255</td>\n",
              "      <td>0.023717</td>\n",
              "      <td>0.017681</td>\n",
              "      <td>0.092716</td>\n",
              "      <td>0.033922</td>\n",
              "      <td>-0.164210</td>\n",
              "      <td>-0.033853</td>\n",
              "      <td>0.779633</td>\n",
              "      <td>-0.040876</td>\n",
              "      <td>0.028058</td>\n",
              "    </tr>\n",
              "    <tr>\n",
              "      <th>MarkDown1</th>\n",
              "      <td>-0.070700</td>\n",
              "      <td>-0.000587</td>\n",
              "      <td>0.052739</td>\n",
              "      <td>-0.017418</td>\n",
              "      <td>0.203202</td>\n",
              "      <td>-0.025144</td>\n",
              "      <td>0.110255</td>\n",
              "      <td>1.000000</td>\n",
              "      <td>0.088357</td>\n",
              "      <td>-0.075525</td>\n",
              "      <td>0.816148</td>\n",
              "      <td>0.186165</td>\n",
              "      <td>-0.021389</td>\n",
              "      <td>-0.012874</td>\n",
              "      <td>0.185703</td>\n",
              "      <td>-0.108817</td>\n",
              "      <td>-0.165252</td>\n",
              "    </tr>\n",
              "    <tr>\n",
              "      <th>MarkDown2</th>\n",
              "      <td>-0.032997</td>\n",
              "      <td>0.000564</td>\n",
              "      <td>0.020342</td>\n",
              "      <td>0.207562</td>\n",
              "      <td>0.077080</td>\n",
              "      <td>-0.179142</td>\n",
              "      <td>0.023717</td>\n",
              "      <td>0.088357</td>\n",
              "      <td>1.000000</td>\n",
              "      <td>-0.008702</td>\n",
              "      <td>0.069051</td>\n",
              "      <td>0.047080</td>\n",
              "      <td>-0.004514</td>\n",
              "      <td>-0.038676</td>\n",
              "      <td>0.121806</td>\n",
              "      <td>-0.018499</td>\n",
              "      <td>0.051041</td>\n",
              "    </tr>\n",
              "    <tr>\n",
              "      <th>MarkDown3</th>\n",
              "      <td>-0.020293</td>\n",
              "      <td>0.001468</td>\n",
              "      <td>0.038524</td>\n",
              "      <td>0.266464</td>\n",
              "      <td>0.033534</td>\n",
              "      <td>-0.055968</td>\n",
              "      <td>0.017681</td>\n",
              "      <td>-0.075525</td>\n",
              "      <td>-0.008702</td>\n",
              "      <td>1.000000</td>\n",
              "      <td>-0.035481</td>\n",
              "      <td>-0.001381</td>\n",
              "      <td>-0.005974</td>\n",
              "      <td>-0.017658</td>\n",
              "      <td>0.005224</td>\n",
              "      <td>0.116010</td>\n",
              "      <td>0.072233</td>\n",
              "    </tr>\n",
              "    <tr>\n",
              "      <th>MarkDown4</th>\n",
              "      <td>-0.027762</td>\n",
              "      <td>0.002169</td>\n",
              "      <td>0.033820</td>\n",
              "      <td>0.006756</td>\n",
              "      <td>0.112056</td>\n",
              "      <td>-0.044688</td>\n",
              "      <td>0.092716</td>\n",
              "      <td>0.816148</td>\n",
              "      <td>0.069051</td>\n",
              "      <td>-0.035481</td>\n",
              "      <td>1.000000</td>\n",
              "      <td>0.155688</td>\n",
              "      <td>-0.013369</td>\n",
              "      <td>-0.040124</td>\n",
              "      <td>0.213926</td>\n",
              "      <td>-0.112367</td>\n",
              "      <td>-0.166197</td>\n",
              "    </tr>\n",
              "    <tr>\n",
              "      <th>MarkDown5</th>\n",
              "      <td>-0.015393</td>\n",
              "      <td>0.000896</td>\n",
              "      <td>0.055702</td>\n",
              "      <td>-0.029169</td>\n",
              "      <td>0.179588</td>\n",
              "      <td>-0.011890</td>\n",
              "      <td>0.033922</td>\n",
              "      <td>0.186165</td>\n",
              "      <td>0.047080</td>\n",
              "      <td>-0.001381</td>\n",
              "      <td>0.155688</td>\n",
              "      <td>1.000000</td>\n",
              "      <td>0.048398</td>\n",
              "      <td>-0.039850</td>\n",
              "      <td>0.103040</td>\n",
              "      <td>0.061864</td>\n",
              "      <td>-0.076876</td>\n",
              "    </tr>\n",
              "    <tr>\n",
              "      <th>CPI</th>\n",
              "      <td>-0.211088</td>\n",
              "      <td>-0.007477</td>\n",
              "      <td>-0.020921</td>\n",
              "      <td>-0.001944</td>\n",
              "      <td>-0.003314</td>\n",
              "      <td>0.182112</td>\n",
              "      <td>-0.164210</td>\n",
              "      <td>-0.021389</td>\n",
              "      <td>-0.004514</td>\n",
              "      <td>-0.005974</td>\n",
              "      <td>-0.013369</td>\n",
              "      <td>0.048398</td>\n",
              "      <td>1.000000</td>\n",
              "      <td>-0.299953</td>\n",
              "      <td>0.074544</td>\n",
              "      <td>0.005282</td>\n",
              "      <td>0.002744</td>\n",
              "    </tr>\n",
              "    <tr>\n",
              "      <th>Unemployment</th>\n",
              "      <td>0.208552</td>\n",
              "      <td>0.007837</td>\n",
              "      <td>-0.025864</td>\n",
              "      <td>0.010460</td>\n",
              "      <td>-0.068238</td>\n",
              "      <td>0.096730</td>\n",
              "      <td>-0.033853</td>\n",
              "      <td>-0.012874</td>\n",
              "      <td>-0.038676</td>\n",
              "      <td>-0.017658</td>\n",
              "      <td>-0.040124</td>\n",
              "      <td>-0.039850</td>\n",
              "      <td>-0.299953</td>\n",
              "      <td>1.000000</td>\n",
              "      <td>-0.237161</td>\n",
              "      <td>-0.012444</td>\n",
              "      <td>-0.003793</td>\n",
              "    </tr>\n",
              "    <tr>\n",
              "      <th>year</th>\n",
              "      <td>0.002997</td>\n",
              "      <td>0.003738</td>\n",
              "      <td>-0.010111</td>\n",
              "      <td>-0.056746</td>\n",
              "      <td>-0.004975</td>\n",
              "      <td>0.065814</td>\n",
              "      <td>0.779633</td>\n",
              "      <td>0.185703</td>\n",
              "      <td>0.121806</td>\n",
              "      <td>0.005224</td>\n",
              "      <td>0.213926</td>\n",
              "      <td>0.103040</td>\n",
              "      <td>0.074544</td>\n",
              "      <td>-0.237161</td>\n",
              "      <td>1.000000</td>\n",
              "      <td>-0.194288</td>\n",
              "      <td>0.005835</td>\n",
              "    </tr>\n",
              "    <tr>\n",
              "      <th>month</th>\n",
              "      <td>0.001011</td>\n",
              "      <td>0.000904</td>\n",
              "      <td>0.028409</td>\n",
              "      <td>0.123376</td>\n",
              "      <td>-0.001210</td>\n",
              "      <td>0.235983</td>\n",
              "      <td>-0.040876</td>\n",
              "      <td>-0.108817</td>\n",
              "      <td>-0.018499</td>\n",
              "      <td>0.116010</td>\n",
              "      <td>-0.112367</td>\n",
              "      <td>0.061864</td>\n",
              "      <td>0.005282</td>\n",
              "      <td>-0.012444</td>\n",
              "      <td>-0.194288</td>\n",
              "      <td>1.000000</td>\n",
              "      <td>0.016363</td>\n",
              "    </tr>\n",
              "    <tr>\n",
              "      <th>day</th>\n",
              "      <td>-0.000015</td>\n",
              "      <td>-0.000678</td>\n",
              "      <td>-0.006187</td>\n",
              "      <td>0.045465</td>\n",
              "      <td>-0.000386</td>\n",
              "      <td>0.026832</td>\n",
              "      <td>0.028058</td>\n",
              "      <td>-0.165252</td>\n",
              "      <td>0.051041</td>\n",
              "      <td>0.072233</td>\n",
              "      <td>-0.166197</td>\n",
              "      <td>-0.076876</td>\n",
              "      <td>0.002744</td>\n",
              "      <td>-0.003793</td>\n",
              "      <td>0.005835</td>\n",
              "      <td>0.016363</td>\n",
              "      <td>1.000000</td>\n",
              "    </tr>\n",
              "  </tbody>\n",
              "</table>\n",
              "</div>"
            ],
            "text/plain": [
              "                 Store      Dept  Weekly_Sales  ...      year     month       day\n",
              "Store         1.000000  0.024004     -0.085195  ...  0.002997  0.001011 -0.000015\n",
              "Dept          0.024004  1.000000      0.148032  ...  0.003738  0.000904 -0.000678\n",
              "Weekly_Sales -0.085195  0.148032      1.000000  ... -0.010111  0.028409 -0.006187\n",
              "IsHoliday    -0.000548  0.000916      0.012774  ... -0.056746  0.123376  0.045465\n",
              "Size         -0.182881 -0.002966      0.243828  ... -0.004975 -0.001210 -0.000386\n",
              "Temperature  -0.050097  0.004437     -0.002312  ...  0.065814  0.235983  0.026832\n",
              "Fuel_Price    0.065290  0.003572     -0.000120  ...  0.779633 -0.040876  0.028058\n",
              "MarkDown1    -0.070700 -0.000587      0.052739  ...  0.185703 -0.108817 -0.165252\n",
              "MarkDown2    -0.032997  0.000564      0.020342  ...  0.121806 -0.018499  0.051041\n",
              "MarkDown3    -0.020293  0.001468      0.038524  ...  0.005224  0.116010  0.072233\n",
              "MarkDown4    -0.027762  0.002169      0.033820  ...  0.213926 -0.112367 -0.166197\n",
              "MarkDown5    -0.015393  0.000896      0.055702  ...  0.103040  0.061864 -0.076876\n",
              "CPI          -0.211088 -0.007477     -0.020921  ...  0.074544  0.005282  0.002744\n",
              "Unemployment  0.208552  0.007837     -0.025864  ... -0.237161 -0.012444 -0.003793\n",
              "year          0.002997  0.003738     -0.010111  ...  1.000000 -0.194288  0.005835\n",
              "month         0.001011  0.000904      0.028409  ... -0.194288  1.000000  0.016363\n",
              "day          -0.000015 -0.000678     -0.006187  ...  0.005835  0.016363  1.000000\n",
              "\n",
              "[17 rows x 17 columns]"
            ]
          },
          "metadata": {
            "tags": []
          },
          "execution_count": 55
        }
      ]
    },
    {
      "cell_type": "markdown",
      "metadata": {
        "id": "aPw6j_4qZRA1"
      },
      "source": [
        "##Feature Engineering "
      ]
    },
    {
      "cell_type": "code",
      "metadata": {
        "id": "hVJbrQudJi25",
        "outputId": "6adb1a84-f969-4ab1-f5bc-b063083575c3",
        "colab": {
          "base_uri": "https://localhost:8080/",
          "height": 357
        }
      },
      "source": [
        "df.isnull().sum()"
      ],
      "execution_count": 57,
      "outputs": [
        {
          "output_type": "execute_result",
          "data": {
            "text/plain": [
              "Store           0\n",
              "Dept            0\n",
              "Date            0\n",
              "Weekly_Sales    0\n",
              "IsHoliday       0\n",
              "Type            0\n",
              "Size            0\n",
              "Temperature     0\n",
              "Fuel_Price      0\n",
              "MarkDown1       0\n",
              "MarkDown2       0\n",
              "MarkDown3       0\n",
              "MarkDown4       0\n",
              "MarkDown5       0\n",
              "CPI             0\n",
              "Unemployment    0\n",
              "year            0\n",
              "month           0\n",
              "day             0\n",
              "dtype: int64"
            ]
          },
          "metadata": {
            "tags": []
          },
          "execution_count": 57
        }
      ]
    },
    {
      "cell_type": "code",
      "metadata": {
        "id": "2iAX41lJIc7F"
      },
      "source": [
        "data=df.copy()\n",
        "y=data['Weekly_Sales']\n",
        "data.drop(['Weekly_Sales','Date'],axis=1,inplace=True)"
      ],
      "execution_count": 58,
      "outputs": []
    },
    {
      "cell_type": "code",
      "metadata": {
        "id": "qSitXJYZNYWS",
        "outputId": "a6692b68-7761-48bb-a965-1e9257a07ada",
        "colab": {
          "base_uri": "https://localhost:8080/",
          "height": 323
        }
      },
      "source": [
        "data.isnull().sum()"
      ],
      "execution_count": 61,
      "outputs": [
        {
          "output_type": "execute_result",
          "data": {
            "text/plain": [
              "Store           0\n",
              "Dept            0\n",
              "IsHoliday       0\n",
              "Type            0\n",
              "Size            0\n",
              "Temperature     0\n",
              "Fuel_Price      0\n",
              "MarkDown1       0\n",
              "MarkDown2       0\n",
              "MarkDown3       0\n",
              "MarkDown4       0\n",
              "MarkDown5       0\n",
              "CPI             0\n",
              "Unemployment    0\n",
              "year            0\n",
              "month           0\n",
              "day             0\n",
              "dtype: int64"
            ]
          },
          "metadata": {
            "tags": []
          },
          "execution_count": 61
        }
      ]
    },
    {
      "cell_type": "code",
      "metadata": {
        "id": "ney3sRA7OsBl",
        "outputId": "878411af-7886-4620-a269-e49a77206bfb",
        "colab": {
          "base_uri": "https://localhost:8080/",
          "height": 224
        }
      },
      "source": [
        "data.head()"
      ],
      "execution_count": 139,
      "outputs": [
        {
          "output_type": "execute_result",
          "data": {
            "text/html": [
              "<div>\n",
              "<style scoped>\n",
              "    .dataframe tbody tr th:only-of-type {\n",
              "        vertical-align: middle;\n",
              "    }\n",
              "\n",
              "    .dataframe tbody tr th {\n",
              "        vertical-align: top;\n",
              "    }\n",
              "\n",
              "    .dataframe thead th {\n",
              "        text-align: right;\n",
              "    }\n",
              "</style>\n",
              "<table border=\"1\" class=\"dataframe\">\n",
              "  <thead>\n",
              "    <tr style=\"text-align: right;\">\n",
              "      <th></th>\n",
              "      <th>Store</th>\n",
              "      <th>Dept</th>\n",
              "      <th>Size</th>\n",
              "      <th>Temperature</th>\n",
              "      <th>Fuel_Price</th>\n",
              "      <th>MarkDown1</th>\n",
              "      <th>MarkDown2</th>\n",
              "      <th>MarkDown3</th>\n",
              "      <th>MarkDown4</th>\n",
              "      <th>MarkDown5</th>\n",
              "      <th>CPI</th>\n",
              "      <th>Unemployment</th>\n",
              "      <th>year</th>\n",
              "      <th>month</th>\n",
              "      <th>day</th>\n",
              "      <th>IsHoliday_False</th>\n",
              "      <th>IsHoliday_True</th>\n",
              "      <th>Type_A</th>\n",
              "      <th>Type_B</th>\n",
              "      <th>Type_C</th>\n",
              "    </tr>\n",
              "  </thead>\n",
              "  <tbody>\n",
              "    <tr>\n",
              "      <th>0</th>\n",
              "      <td>1</td>\n",
              "      <td>1</td>\n",
              "      <td>151315</td>\n",
              "      <td>42.31</td>\n",
              "      <td>2.572</td>\n",
              "      <td>5347.45</td>\n",
              "      <td>192.0</td>\n",
              "      <td>24.6</td>\n",
              "      <td>1481.31</td>\n",
              "      <td>3359.45</td>\n",
              "      <td>211.096358</td>\n",
              "      <td>8.106</td>\n",
              "      <td>2010</td>\n",
              "      <td>2</td>\n",
              "      <td>5</td>\n",
              "      <td>1</td>\n",
              "      <td>0</td>\n",
              "      <td>1</td>\n",
              "      <td>0</td>\n",
              "      <td>0</td>\n",
              "    </tr>\n",
              "    <tr>\n",
              "      <th>1</th>\n",
              "      <td>1</td>\n",
              "      <td>1</td>\n",
              "      <td>151315</td>\n",
              "      <td>38.51</td>\n",
              "      <td>2.548</td>\n",
              "      <td>5347.45</td>\n",
              "      <td>192.0</td>\n",
              "      <td>24.6</td>\n",
              "      <td>1481.31</td>\n",
              "      <td>3359.45</td>\n",
              "      <td>211.242170</td>\n",
              "      <td>8.106</td>\n",
              "      <td>2010</td>\n",
              "      <td>2</td>\n",
              "      <td>12</td>\n",
              "      <td>0</td>\n",
              "      <td>1</td>\n",
              "      <td>1</td>\n",
              "      <td>0</td>\n",
              "      <td>0</td>\n",
              "    </tr>\n",
              "    <tr>\n",
              "      <th>2</th>\n",
              "      <td>1</td>\n",
              "      <td>1</td>\n",
              "      <td>151315</td>\n",
              "      <td>39.93</td>\n",
              "      <td>2.514</td>\n",
              "      <td>5347.45</td>\n",
              "      <td>192.0</td>\n",
              "      <td>24.6</td>\n",
              "      <td>1481.31</td>\n",
              "      <td>3359.45</td>\n",
              "      <td>211.289143</td>\n",
              "      <td>8.106</td>\n",
              "      <td>2010</td>\n",
              "      <td>2</td>\n",
              "      <td>19</td>\n",
              "      <td>1</td>\n",
              "      <td>0</td>\n",
              "      <td>1</td>\n",
              "      <td>0</td>\n",
              "      <td>0</td>\n",
              "    </tr>\n",
              "    <tr>\n",
              "      <th>3</th>\n",
              "      <td>1</td>\n",
              "      <td>1</td>\n",
              "      <td>151315</td>\n",
              "      <td>46.63</td>\n",
              "      <td>2.561</td>\n",
              "      <td>5347.45</td>\n",
              "      <td>192.0</td>\n",
              "      <td>24.6</td>\n",
              "      <td>1481.31</td>\n",
              "      <td>3359.45</td>\n",
              "      <td>211.319643</td>\n",
              "      <td>8.106</td>\n",
              "      <td>2010</td>\n",
              "      <td>2</td>\n",
              "      <td>26</td>\n",
              "      <td>1</td>\n",
              "      <td>0</td>\n",
              "      <td>1</td>\n",
              "      <td>0</td>\n",
              "      <td>0</td>\n",
              "    </tr>\n",
              "    <tr>\n",
              "      <th>4</th>\n",
              "      <td>1</td>\n",
              "      <td>1</td>\n",
              "      <td>151315</td>\n",
              "      <td>46.50</td>\n",
              "      <td>2.625</td>\n",
              "      <td>5347.45</td>\n",
              "      <td>192.0</td>\n",
              "      <td>24.6</td>\n",
              "      <td>1481.31</td>\n",
              "      <td>3359.45</td>\n",
              "      <td>211.350143</td>\n",
              "      <td>8.106</td>\n",
              "      <td>2010</td>\n",
              "      <td>3</td>\n",
              "      <td>5</td>\n",
              "      <td>1</td>\n",
              "      <td>0</td>\n",
              "      <td>1</td>\n",
              "      <td>0</td>\n",
              "      <td>0</td>\n",
              "    </tr>\n",
              "  </tbody>\n",
              "</table>\n",
              "</div>"
            ],
            "text/plain": [
              "   Store  Dept    Size  Temperature  ...  IsHoliday_True  Type_A  Type_B  Type_C\n",
              "0      1     1  151315        42.31  ...               0       1       0       0\n",
              "1      1     1  151315        38.51  ...               1       1       0       0\n",
              "2      1     1  151315        39.93  ...               0       1       0       0\n",
              "3      1     1  151315        46.63  ...               0       1       0       0\n",
              "4      1     1  151315        46.50  ...               0       1       0       0\n",
              "\n",
              "[5 rows x 20 columns]"
            ]
          },
          "metadata": {
            "tags": []
          },
          "execution_count": 139
        }
      ]
    },
    {
      "cell_type": "code",
      "metadata": {
        "id": "2a7PndXmPdIT",
        "outputId": "dbadb03e-8608-4dd6-a144-c4e0e1eeb7a7",
        "colab": {
          "base_uri": "https://localhost:8080/",
          "height": 439
        }
      },
      "source": [
        "\n",
        "data=pd.get_dummies(data, columns = categorical_features)\n",
        "data"
      ],
      "execution_count": 64,
      "outputs": [
        {
          "output_type": "execute_result",
          "data": {
            "text/html": [
              "<div>\n",
              "<style scoped>\n",
              "    .dataframe tbody tr th:only-of-type {\n",
              "        vertical-align: middle;\n",
              "    }\n",
              "\n",
              "    .dataframe tbody tr th {\n",
              "        vertical-align: top;\n",
              "    }\n",
              "\n",
              "    .dataframe thead th {\n",
              "        text-align: right;\n",
              "    }\n",
              "</style>\n",
              "<table border=\"1\" class=\"dataframe\">\n",
              "  <thead>\n",
              "    <tr style=\"text-align: right;\">\n",
              "      <th></th>\n",
              "      <th>Store</th>\n",
              "      <th>Dept</th>\n",
              "      <th>Size</th>\n",
              "      <th>Temperature</th>\n",
              "      <th>Fuel_Price</th>\n",
              "      <th>MarkDown1</th>\n",
              "      <th>MarkDown2</th>\n",
              "      <th>MarkDown3</th>\n",
              "      <th>MarkDown4</th>\n",
              "      <th>MarkDown5</th>\n",
              "      <th>CPI</th>\n",
              "      <th>Unemployment</th>\n",
              "      <th>year</th>\n",
              "      <th>month</th>\n",
              "      <th>day</th>\n",
              "      <th>IsHoliday_False</th>\n",
              "      <th>IsHoliday_True</th>\n",
              "      <th>Type_A</th>\n",
              "      <th>Type_B</th>\n",
              "      <th>Type_C</th>\n",
              "    </tr>\n",
              "  </thead>\n",
              "  <tbody>\n",
              "    <tr>\n",
              "      <th>0</th>\n",
              "      <td>1</td>\n",
              "      <td>1</td>\n",
              "      <td>151315</td>\n",
              "      <td>42.31</td>\n",
              "      <td>2.572</td>\n",
              "      <td>5347.45</td>\n",
              "      <td>192.00</td>\n",
              "      <td>24.60</td>\n",
              "      <td>1481.31</td>\n",
              "      <td>3359.45</td>\n",
              "      <td>211.096358</td>\n",
              "      <td>8.106</td>\n",
              "      <td>2010</td>\n",
              "      <td>2</td>\n",
              "      <td>5</td>\n",
              "      <td>1</td>\n",
              "      <td>0</td>\n",
              "      <td>1</td>\n",
              "      <td>0</td>\n",
              "      <td>0</td>\n",
              "    </tr>\n",
              "    <tr>\n",
              "      <th>1</th>\n",
              "      <td>1</td>\n",
              "      <td>1</td>\n",
              "      <td>151315</td>\n",
              "      <td>38.51</td>\n",
              "      <td>2.548</td>\n",
              "      <td>5347.45</td>\n",
              "      <td>192.00</td>\n",
              "      <td>24.60</td>\n",
              "      <td>1481.31</td>\n",
              "      <td>3359.45</td>\n",
              "      <td>211.242170</td>\n",
              "      <td>8.106</td>\n",
              "      <td>2010</td>\n",
              "      <td>2</td>\n",
              "      <td>12</td>\n",
              "      <td>0</td>\n",
              "      <td>1</td>\n",
              "      <td>1</td>\n",
              "      <td>0</td>\n",
              "      <td>0</td>\n",
              "    </tr>\n",
              "    <tr>\n",
              "      <th>2</th>\n",
              "      <td>1</td>\n",
              "      <td>1</td>\n",
              "      <td>151315</td>\n",
              "      <td>39.93</td>\n",
              "      <td>2.514</td>\n",
              "      <td>5347.45</td>\n",
              "      <td>192.00</td>\n",
              "      <td>24.60</td>\n",
              "      <td>1481.31</td>\n",
              "      <td>3359.45</td>\n",
              "      <td>211.289143</td>\n",
              "      <td>8.106</td>\n",
              "      <td>2010</td>\n",
              "      <td>2</td>\n",
              "      <td>19</td>\n",
              "      <td>1</td>\n",
              "      <td>0</td>\n",
              "      <td>1</td>\n",
              "      <td>0</td>\n",
              "      <td>0</td>\n",
              "    </tr>\n",
              "    <tr>\n",
              "      <th>3</th>\n",
              "      <td>1</td>\n",
              "      <td>1</td>\n",
              "      <td>151315</td>\n",
              "      <td>46.63</td>\n",
              "      <td>2.561</td>\n",
              "      <td>5347.45</td>\n",
              "      <td>192.00</td>\n",
              "      <td>24.60</td>\n",
              "      <td>1481.31</td>\n",
              "      <td>3359.45</td>\n",
              "      <td>211.319643</td>\n",
              "      <td>8.106</td>\n",
              "      <td>2010</td>\n",
              "      <td>2</td>\n",
              "      <td>26</td>\n",
              "      <td>1</td>\n",
              "      <td>0</td>\n",
              "      <td>1</td>\n",
              "      <td>0</td>\n",
              "      <td>0</td>\n",
              "    </tr>\n",
              "    <tr>\n",
              "      <th>4</th>\n",
              "      <td>1</td>\n",
              "      <td>1</td>\n",
              "      <td>151315</td>\n",
              "      <td>46.50</td>\n",
              "      <td>2.625</td>\n",
              "      <td>5347.45</td>\n",
              "      <td>192.00</td>\n",
              "      <td>24.60</td>\n",
              "      <td>1481.31</td>\n",
              "      <td>3359.45</td>\n",
              "      <td>211.350143</td>\n",
              "      <td>8.106</td>\n",
              "      <td>2010</td>\n",
              "      <td>3</td>\n",
              "      <td>5</td>\n",
              "      <td>1</td>\n",
              "      <td>0</td>\n",
              "      <td>1</td>\n",
              "      <td>0</td>\n",
              "      <td>0</td>\n",
              "    </tr>\n",
              "    <tr>\n",
              "      <th>...</th>\n",
              "      <td>...</td>\n",
              "      <td>...</td>\n",
              "      <td>...</td>\n",
              "      <td>...</td>\n",
              "      <td>...</td>\n",
              "      <td>...</td>\n",
              "      <td>...</td>\n",
              "      <td>...</td>\n",
              "      <td>...</td>\n",
              "      <td>...</td>\n",
              "      <td>...</td>\n",
              "      <td>...</td>\n",
              "      <td>...</td>\n",
              "      <td>...</td>\n",
              "      <td>...</td>\n",
              "      <td>...</td>\n",
              "      <td>...</td>\n",
              "      <td>...</td>\n",
              "      <td>...</td>\n",
              "      <td>...</td>\n",
              "    </tr>\n",
              "    <tr>\n",
              "      <th>421565</th>\n",
              "      <td>45</td>\n",
              "      <td>98</td>\n",
              "      <td>118221</td>\n",
              "      <td>64.88</td>\n",
              "      <td>3.997</td>\n",
              "      <td>4556.61</td>\n",
              "      <td>20.64</td>\n",
              "      <td>1.50</td>\n",
              "      <td>1601.01</td>\n",
              "      <td>3288.25</td>\n",
              "      <td>192.013558</td>\n",
              "      <td>8.684</td>\n",
              "      <td>2012</td>\n",
              "      <td>9</td>\n",
              "      <td>28</td>\n",
              "      <td>1</td>\n",
              "      <td>0</td>\n",
              "      <td>0</td>\n",
              "      <td>1</td>\n",
              "      <td>0</td>\n",
              "    </tr>\n",
              "    <tr>\n",
              "      <th>421566</th>\n",
              "      <td>45</td>\n",
              "      <td>98</td>\n",
              "      <td>118221</td>\n",
              "      <td>64.89</td>\n",
              "      <td>3.985</td>\n",
              "      <td>5046.74</td>\n",
              "      <td>192.00</td>\n",
              "      <td>18.82</td>\n",
              "      <td>2253.43</td>\n",
              "      <td>2340.01</td>\n",
              "      <td>192.170412</td>\n",
              "      <td>8.667</td>\n",
              "      <td>2012</td>\n",
              "      <td>10</td>\n",
              "      <td>5</td>\n",
              "      <td>1</td>\n",
              "      <td>0</td>\n",
              "      <td>0</td>\n",
              "      <td>1</td>\n",
              "      <td>0</td>\n",
              "    </tr>\n",
              "    <tr>\n",
              "      <th>421567</th>\n",
              "      <td>45</td>\n",
              "      <td>98</td>\n",
              "      <td>118221</td>\n",
              "      <td>54.47</td>\n",
              "      <td>4.000</td>\n",
              "      <td>1956.28</td>\n",
              "      <td>192.00</td>\n",
              "      <td>7.89</td>\n",
              "      <td>599.32</td>\n",
              "      <td>3990.54</td>\n",
              "      <td>192.327265</td>\n",
              "      <td>8.667</td>\n",
              "      <td>2012</td>\n",
              "      <td>10</td>\n",
              "      <td>12</td>\n",
              "      <td>1</td>\n",
              "      <td>0</td>\n",
              "      <td>0</td>\n",
              "      <td>1</td>\n",
              "      <td>0</td>\n",
              "    </tr>\n",
              "    <tr>\n",
              "      <th>421568</th>\n",
              "      <td>45</td>\n",
              "      <td>98</td>\n",
              "      <td>118221</td>\n",
              "      <td>56.47</td>\n",
              "      <td>3.969</td>\n",
              "      <td>2004.02</td>\n",
              "      <td>192.00</td>\n",
              "      <td>3.18</td>\n",
              "      <td>437.73</td>\n",
              "      <td>1537.49</td>\n",
              "      <td>192.330854</td>\n",
              "      <td>8.667</td>\n",
              "      <td>2012</td>\n",
              "      <td>10</td>\n",
              "      <td>19</td>\n",
              "      <td>1</td>\n",
              "      <td>0</td>\n",
              "      <td>0</td>\n",
              "      <td>1</td>\n",
              "      <td>0</td>\n",
              "    </tr>\n",
              "    <tr>\n",
              "      <th>421569</th>\n",
              "      <td>45</td>\n",
              "      <td>98</td>\n",
              "      <td>118221</td>\n",
              "      <td>58.85</td>\n",
              "      <td>3.882</td>\n",
              "      <td>4018.91</td>\n",
              "      <td>58.08</td>\n",
              "      <td>100.00</td>\n",
              "      <td>211.94</td>\n",
              "      <td>858.33</td>\n",
              "      <td>192.308899</td>\n",
              "      <td>8.667</td>\n",
              "      <td>2012</td>\n",
              "      <td>10</td>\n",
              "      <td>26</td>\n",
              "      <td>1</td>\n",
              "      <td>0</td>\n",
              "      <td>0</td>\n",
              "      <td>1</td>\n",
              "      <td>0</td>\n",
              "    </tr>\n",
              "  </tbody>\n",
              "</table>\n",
              "<p>421570 rows × 20 columns</p>\n",
              "</div>"
            ],
            "text/plain": [
              "        Store  Dept    Size  ...  Type_A  Type_B  Type_C\n",
              "0           1     1  151315  ...       1       0       0\n",
              "1           1     1  151315  ...       1       0       0\n",
              "2           1     1  151315  ...       1       0       0\n",
              "3           1     1  151315  ...       1       0       0\n",
              "4           1     1  151315  ...       1       0       0\n",
              "...       ...   ...     ...  ...     ...     ...     ...\n",
              "421565     45    98  118221  ...       0       1       0\n",
              "421566     45    98  118221  ...       0       1       0\n",
              "421567     45    98  118221  ...       0       1       0\n",
              "421568     45    98  118221  ...       0       1       0\n",
              "421569     45    98  118221  ...       0       1       0\n",
              "\n",
              "[421570 rows x 20 columns]"
            ]
          },
          "metadata": {
            "tags": []
          },
          "execution_count": 64
        }
      ]
    },
    {
      "cell_type": "markdown",
      "metadata": {
        "id": "xF4V90SNNxEG"
      },
      "source": [
        "Since features are at different scale, so feature needs to be performed."
      ]
    },
    {
      "cell_type": "code",
      "metadata": {
        "id": "qXT773BcTdZn",
        "outputId": "5ebbe094-f98f-48fa-c728-10d676211dca",
        "colab": {
          "base_uri": "https://localhost:8080/",
          "height": 238
        }
      },
      "source": [
        "from sklearn.preprocessing import StandardScaler\n",
        "scaled_features = StandardScaler().fit_transform(data.values)\n",
        "scaled_features"
      ],
      "execution_count": 66,
      "outputs": [
        {
          "output_type": "execute_result",
          "data": {
            "text/plain": [
              "array([[-1.65819926, -1.41874236,  0.23920895, ...,  0.97797803,\n",
              "        -0.79593806, -0.3352628 ],\n",
              "       [-1.65819926, -1.41874236,  0.23920895, ...,  0.97797803,\n",
              "        -0.79593806, -0.3352628 ],\n",
              "       [-1.65819926, -1.41874236,  0.23920895, ...,  0.97797803,\n",
              "        -0.79593806, -0.3352628 ],\n",
              "       ...,\n",
              "       [ 1.78325781,  1.76241805, -0.30348902, ..., -1.02251786,\n",
              "         1.25637918, -0.3352628 ],\n",
              "       [ 1.78325781,  1.76241805, -0.30348902, ..., -1.02251786,\n",
              "         1.25637918, -0.3352628 ],\n",
              "       [ 1.78325781,  1.76241805, -0.30348902, ..., -1.02251786,\n",
              "         1.25637918, -0.3352628 ]])"
            ]
          },
          "metadata": {
            "tags": []
          },
          "execution_count": 66
        }
      ]
    },
    {
      "cell_type": "code",
      "metadata": {
        "id": "UvmyoB_MXi-V",
        "outputId": "cb8d54eb-d356-4055-dd20-ff09968bd629",
        "colab": {
          "base_uri": "https://localhost:8080/",
          "height": 439
        }
      },
      "source": [
        "scaled_features_df = pd.DataFrame(scaled_features, index=data.index, columns=data.columns)\n",
        "scaled_features_df"
      ],
      "execution_count": 67,
      "outputs": [
        {
          "output_type": "execute_result",
          "data": {
            "text/html": [
              "<div>\n",
              "<style scoped>\n",
              "    .dataframe tbody tr th:only-of-type {\n",
              "        vertical-align: middle;\n",
              "    }\n",
              "\n",
              "    .dataframe tbody tr th {\n",
              "        vertical-align: top;\n",
              "    }\n",
              "\n",
              "    .dataframe thead th {\n",
              "        text-align: right;\n",
              "    }\n",
              "</style>\n",
              "<table border=\"1\" class=\"dataframe\">\n",
              "  <thead>\n",
              "    <tr style=\"text-align: right;\">\n",
              "      <th></th>\n",
              "      <th>Store</th>\n",
              "      <th>Dept</th>\n",
              "      <th>Size</th>\n",
              "      <th>Temperature</th>\n",
              "      <th>Fuel_Price</th>\n",
              "      <th>MarkDown1</th>\n",
              "      <th>MarkDown2</th>\n",
              "      <th>MarkDown3</th>\n",
              "      <th>MarkDown4</th>\n",
              "      <th>MarkDown5</th>\n",
              "      <th>CPI</th>\n",
              "      <th>Unemployment</th>\n",
              "      <th>year</th>\n",
              "      <th>month</th>\n",
              "      <th>day</th>\n",
              "      <th>IsHoliday_False</th>\n",
              "      <th>IsHoliday_True</th>\n",
              "      <th>Type_A</th>\n",
              "      <th>Type_B</th>\n",
              "      <th>Type_C</th>\n",
              "    </tr>\n",
              "  </thead>\n",
              "  <tbody>\n",
              "    <tr>\n",
              "      <th>0</th>\n",
              "      <td>-1.658199</td>\n",
              "      <td>-1.418742</td>\n",
              "      <td>0.239209</td>\n",
              "      <td>-0.963798</td>\n",
              "      <td>-1.720834</td>\n",
              "      <td>-0.134678</td>\n",
              "      <td>-0.163871</td>\n",
              "      <td>-0.083237</td>\n",
              "      <td>-0.165943</td>\n",
              "      <td>-0.125789</td>\n",
              "      <td>1.018774</td>\n",
              "      <td>0.078201</td>\n",
              "      <td>-1.215487</td>\n",
              "      <td>-1.371945</td>\n",
              "      <td>-1.219293</td>\n",
              "      <td>0.275106</td>\n",
              "      <td>-0.275106</td>\n",
              "      <td>0.977978</td>\n",
              "      <td>-0.795938</td>\n",
              "      <td>-0.335263</td>\n",
              "    </tr>\n",
              "    <tr>\n",
              "      <th>1</th>\n",
              "      <td>-1.658199</td>\n",
              "      <td>-1.418742</td>\n",
              "      <td>0.239209</td>\n",
              "      <td>-1.169783</td>\n",
              "      <td>-1.773177</td>\n",
              "      <td>-0.134678</td>\n",
              "      <td>-0.163871</td>\n",
              "      <td>-0.083237</td>\n",
              "      <td>-0.165943</td>\n",
              "      <td>-0.125789</td>\n",
              "      <td>1.022498</td>\n",
              "      <td>0.078201</td>\n",
              "      <td>-1.215487</td>\n",
              "      <td>-1.371945</td>\n",
              "      <td>-0.419617</td>\n",
              "      <td>-3.634961</td>\n",
              "      <td>3.634961</td>\n",
              "      <td>0.977978</td>\n",
              "      <td>-0.795938</td>\n",
              "      <td>-0.335263</td>\n",
              "    </tr>\n",
              "    <tr>\n",
              "      <th>2</th>\n",
              "      <td>-1.658199</td>\n",
              "      <td>-1.418742</td>\n",
              "      <td>0.239209</td>\n",
              "      <td>-1.092810</td>\n",
              "      <td>-1.847330</td>\n",
              "      <td>-0.134678</td>\n",
              "      <td>-0.163871</td>\n",
              "      <td>-0.083237</td>\n",
              "      <td>-0.165943</td>\n",
              "      <td>-0.125789</td>\n",
              "      <td>1.023697</td>\n",
              "      <td>0.078201</td>\n",
              "      <td>-1.215487</td>\n",
              "      <td>-1.371945</td>\n",
              "      <td>0.380060</td>\n",
              "      <td>0.275106</td>\n",
              "      <td>-0.275106</td>\n",
              "      <td>0.977978</td>\n",
              "      <td>-0.795938</td>\n",
              "      <td>-0.335263</td>\n",
              "    </tr>\n",
              "    <tr>\n",
              "      <th>3</th>\n",
              "      <td>-1.658199</td>\n",
              "      <td>-1.418742</td>\n",
              "      <td>0.239209</td>\n",
              "      <td>-0.729625</td>\n",
              "      <td>-1.744825</td>\n",
              "      <td>-0.134678</td>\n",
              "      <td>-0.163871</td>\n",
              "      <td>-0.083237</td>\n",
              "      <td>-0.165943</td>\n",
              "      <td>-0.125789</td>\n",
              "      <td>1.024476</td>\n",
              "      <td>0.078201</td>\n",
              "      <td>-1.215487</td>\n",
              "      <td>-1.371945</td>\n",
              "      <td>1.179736</td>\n",
              "      <td>0.275106</td>\n",
              "      <td>-0.275106</td>\n",
              "      <td>0.977978</td>\n",
              "      <td>-0.795938</td>\n",
              "      <td>-0.335263</td>\n",
              "    </tr>\n",
              "    <tr>\n",
              "      <th>4</th>\n",
              "      <td>-1.658199</td>\n",
              "      <td>-1.418742</td>\n",
              "      <td>0.239209</td>\n",
              "      <td>-0.736672</td>\n",
              "      <td>-1.605243</td>\n",
              "      <td>-0.134678</td>\n",
              "      <td>-0.163871</td>\n",
              "      <td>-0.083237</td>\n",
              "      <td>-0.165943</td>\n",
              "      <td>-0.125789</td>\n",
              "      <td>1.025255</td>\n",
              "      <td>0.078201</td>\n",
              "      <td>-1.215487</td>\n",
              "      <td>-1.063609</td>\n",
              "      <td>-1.219293</td>\n",
              "      <td>0.275106</td>\n",
              "      <td>-0.275106</td>\n",
              "      <td>0.977978</td>\n",
              "      <td>-0.795938</td>\n",
              "      <td>-0.335263</td>\n",
              "    </tr>\n",
              "    <tr>\n",
              "      <th>...</th>\n",
              "      <td>...</td>\n",
              "      <td>...</td>\n",
              "      <td>...</td>\n",
              "      <td>...</td>\n",
              "      <td>...</td>\n",
              "      <td>...</td>\n",
              "      <td>...</td>\n",
              "      <td>...</td>\n",
              "      <td>...</td>\n",
              "      <td>...</td>\n",
              "      <td>...</td>\n",
              "      <td>...</td>\n",
              "      <td>...</td>\n",
              "      <td>...</td>\n",
              "      <td>...</td>\n",
              "      <td>...</td>\n",
              "      <td>...</td>\n",
              "      <td>...</td>\n",
              "      <td>...</td>\n",
              "      <td>...</td>\n",
              "    </tr>\n",
              "    <tr>\n",
              "      <th>421565</th>\n",
              "      <td>1.783258</td>\n",
              "      <td>1.762418</td>\n",
              "      <td>-0.303489</td>\n",
              "      <td>0.259647</td>\n",
              "      <td>1.387032</td>\n",
              "      <td>-0.291598</td>\n",
              "      <td>-0.197732</td>\n",
              "      <td>-0.087416</td>\n",
              "      <td>-0.133321</td>\n",
              "      <td>-0.145429</td>\n",
              "      <td>0.531461</td>\n",
              "      <td>0.388404</td>\n",
              "      <td>1.294317</td>\n",
              "      <td>0.786408</td>\n",
              "      <td>1.408215</td>\n",
              "      <td>0.275106</td>\n",
              "      <td>-0.275106</td>\n",
              "      <td>-1.022518</td>\n",
              "      <td>1.256379</td>\n",
              "      <td>-0.335263</td>\n",
              "    </tr>\n",
              "    <tr>\n",
              "      <th>421566</th>\n",
              "      <td>1.783258</td>\n",
              "      <td>1.762418</td>\n",
              "      <td>-0.303489</td>\n",
              "      <td>0.260189</td>\n",
              "      <td>1.360860</td>\n",
              "      <td>-0.194345</td>\n",
              "      <td>-0.163871</td>\n",
              "      <td>-0.084282</td>\n",
              "      <td>0.044487</td>\n",
              "      <td>-0.406989</td>\n",
              "      <td>0.535467</td>\n",
              "      <td>0.379281</td>\n",
              "      <td>1.294317</td>\n",
              "      <td>1.094744</td>\n",
              "      <td>-1.219293</td>\n",
              "      <td>0.275106</td>\n",
              "      <td>-0.275106</td>\n",
              "      <td>-1.022518</td>\n",
              "      <td>1.256379</td>\n",
              "      <td>-0.335263</td>\n",
              "    </tr>\n",
              "    <tr>\n",
              "      <th>421567</th>\n",
              "      <td>1.783258</td>\n",
              "      <td>1.762418</td>\n",
              "      <td>-0.303489</td>\n",
              "      <td>-0.304645</td>\n",
              "      <td>1.393575</td>\n",
              "      <td>-0.807561</td>\n",
              "      <td>-0.163871</td>\n",
              "      <td>-0.086260</td>\n",
              "      <td>-0.406317</td>\n",
              "      <td>0.048289</td>\n",
              "      <td>0.539472</td>\n",
              "      <td>0.379281</td>\n",
              "      <td>1.294317</td>\n",
              "      <td>1.094744</td>\n",
              "      <td>-0.419617</td>\n",
              "      <td>0.275106</td>\n",
              "      <td>-0.275106</td>\n",
              "      <td>-1.022518</td>\n",
              "      <td>1.256379</td>\n",
              "      <td>-0.335263</td>\n",
              "    </tr>\n",
              "    <tr>\n",
              "      <th>421568</th>\n",
              "      <td>1.783258</td>\n",
              "      <td>1.762418</td>\n",
              "      <td>-0.303489</td>\n",
              "      <td>-0.196231</td>\n",
              "      <td>1.325965</td>\n",
              "      <td>-0.798088</td>\n",
              "      <td>-0.163871</td>\n",
              "      <td>-0.087112</td>\n",
              "      <td>-0.450356</td>\n",
              "      <td>-0.628354</td>\n",
              "      <td>0.539564</td>\n",
              "      <td>0.379281</td>\n",
              "      <td>1.294317</td>\n",
              "      <td>1.094744</td>\n",
              "      <td>0.380060</td>\n",
              "      <td>0.275106</td>\n",
              "      <td>-0.275106</td>\n",
              "      <td>-1.022518</td>\n",
              "      <td>1.256379</td>\n",
              "      <td>-0.335263</td>\n",
              "    </tr>\n",
              "    <tr>\n",
              "      <th>421569</th>\n",
              "      <td>1.783258</td>\n",
              "      <td>1.762418</td>\n",
              "      <td>-0.303489</td>\n",
              "      <td>-0.067219</td>\n",
              "      <td>1.136222</td>\n",
              "      <td>-0.398290</td>\n",
              "      <td>-0.190334</td>\n",
              "      <td>-0.069596</td>\n",
              "      <td>-0.511892</td>\n",
              "      <td>-0.815692</td>\n",
              "      <td>0.539003</td>\n",
              "      <td>0.379281</td>\n",
              "      <td>1.294317</td>\n",
              "      <td>1.094744</td>\n",
              "      <td>1.179736</td>\n",
              "      <td>0.275106</td>\n",
              "      <td>-0.275106</td>\n",
              "      <td>-1.022518</td>\n",
              "      <td>1.256379</td>\n",
              "      <td>-0.335263</td>\n",
              "    </tr>\n",
              "  </tbody>\n",
              "</table>\n",
              "<p>421570 rows × 20 columns</p>\n",
              "</div>"
            ],
            "text/plain": [
              "           Store      Dept      Size  ...    Type_A    Type_B    Type_C\n",
              "0      -1.658199 -1.418742  0.239209  ...  0.977978 -0.795938 -0.335263\n",
              "1      -1.658199 -1.418742  0.239209  ...  0.977978 -0.795938 -0.335263\n",
              "2      -1.658199 -1.418742  0.239209  ...  0.977978 -0.795938 -0.335263\n",
              "3      -1.658199 -1.418742  0.239209  ...  0.977978 -0.795938 -0.335263\n",
              "4      -1.658199 -1.418742  0.239209  ...  0.977978 -0.795938 -0.335263\n",
              "...          ...       ...       ...  ...       ...       ...       ...\n",
              "421565  1.783258  1.762418 -0.303489  ... -1.022518  1.256379 -0.335263\n",
              "421566  1.783258  1.762418 -0.303489  ... -1.022518  1.256379 -0.335263\n",
              "421567  1.783258  1.762418 -0.303489  ... -1.022518  1.256379 -0.335263\n",
              "421568  1.783258  1.762418 -0.303489  ... -1.022518  1.256379 -0.335263\n",
              "421569  1.783258  1.762418 -0.303489  ... -1.022518  1.256379 -0.335263\n",
              "\n",
              "[421570 rows x 20 columns]"
            ]
          },
          "metadata": {
            "tags": []
          },
          "execution_count": 67
        }
      ]
    },
    {
      "cell_type": "code",
      "metadata": {
        "id": "Yh7UU4-wXxZa",
        "outputId": "0a0da295-9c84-4f55-916c-22128980f3f7",
        "colab": {
          "base_uri": "https://localhost:8080/",
          "height": 374
        }
      },
      "source": [
        "data.isnull().sum()"
      ],
      "execution_count": 68,
      "outputs": [
        {
          "output_type": "execute_result",
          "data": {
            "text/plain": [
              "Store              0\n",
              "Dept               0\n",
              "Size               0\n",
              "Temperature        0\n",
              "Fuel_Price         0\n",
              "MarkDown1          0\n",
              "MarkDown2          0\n",
              "MarkDown3          0\n",
              "MarkDown4          0\n",
              "MarkDown5          0\n",
              "CPI                0\n",
              "Unemployment       0\n",
              "year               0\n",
              "month              0\n",
              "day                0\n",
              "IsHoliday_False    0\n",
              "IsHoliday_True     0\n",
              "Type_A             0\n",
              "Type_B             0\n",
              "Type_C             0\n",
              "dtype: int64"
            ]
          },
          "metadata": {
            "tags": []
          },
          "execution_count": 68
        }
      ]
    },
    {
      "cell_type": "markdown",
      "metadata": {
        "id": "70NVBajme2GD"
      },
      "source": [
        "##Feature Selection"
      ]
    },
    {
      "cell_type": "code",
      "metadata": {
        "id": "IVOn4oCbY49V"
      },
      "source": [
        "from sklearn.linear_model import Lasso\n",
        "from sklearn.feature_selection import SelectFromModel"
      ],
      "execution_count": 69,
      "outputs": []
    },
    {
      "cell_type": "code",
      "metadata": {
        "id": "s5ZJaWRAqHx7"
      },
      "source": [
        "from sklearn.model_selection import train_test_split\n",
        "X_train,X_test,y_train,y_test=train_test_split(scaled_features_df,y,test_size=0.1,random_state=0)"
      ],
      "execution_count": 70,
      "outputs": []
    },
    {
      "cell_type": "code",
      "metadata": {
        "id": "WZjSNuMep6QC",
        "outputId": "6bd76df4-42dc-4b9d-fad5-e026fd8340ce",
        "colab": {
          "base_uri": "https://localhost:8080/",
          "height": 119
        }
      },
      "source": [
        "feature_sel_model = SelectFromModel(Lasso(alpha=0.005, random_state=0)) # remember to set the seed, the random state in this function\n",
        "feature_sel_model.fit(X_train, y_train)"
      ],
      "execution_count": 71,
      "outputs": [
        {
          "output_type": "execute_result",
          "data": {
            "text/plain": [
              "SelectFromModel(estimator=Lasso(alpha=0.005, copy_X=True, fit_intercept=True,\n",
              "                                max_iter=1000, normalize=False, positive=False,\n",
              "                                precompute=False, random_state=0,\n",
              "                                selection='cyclic', tol=0.0001,\n",
              "                                warm_start=False),\n",
              "                max_features=None, norm_order=1, prefit=False, threshold=None)"
            ]
          },
          "metadata": {
            "tags": []
          },
          "execution_count": 71
        }
      ]
    },
    {
      "cell_type": "code",
      "metadata": {
        "id": "Hs3V15aTp9TE",
        "outputId": "0d2ba918-da25-4915-c81c-13d95505cf54",
        "colab": {
          "base_uri": "https://localhost:8080/",
          "height": 51
        }
      },
      "source": [
        "selected_feat = X_train.columns[(feature_sel_model.get_support())]\n",
        "\n",
        "# let's print some stats\n",
        "print('total features: {}'.format((X_train.shape[1])))\n",
        "print('selected features: {}'.format(len(selected_feat)))\n",
        "# print('features with coefficients shrank to zero: {}'.format(\n",
        "    # np.sum(sel_.estimator_.coef_ == 0)))"
      ],
      "execution_count": 72,
      "outputs": [
        {
          "output_type": "stream",
          "text": [
            "total features: 20\n",
            "selected features: 19\n"
          ],
          "name": "stdout"
        }
      ]
    },
    {
      "cell_type": "code",
      "metadata": {
        "id": "O3udwml6qX8S"
      },
      "source": [
        "X_train=X_train[selected_feat]\n",
        "X_test=X_test[selected_feat]\n"
      ],
      "execution_count": 73,
      "outputs": []
    },
    {
      "cell_type": "markdown",
      "metadata": {
        "id": "_inu3NwCZZ0L"
      },
      "source": [
        "##Model Selection"
      ]
    },
    {
      "cell_type": "code",
      "metadata": {
        "id": "n2h8s7teqo4U",
        "outputId": "9f7b2177-67d9-439b-f719-3b8dbe797011",
        "colab": {
          "base_uri": "https://localhost:8080/",
          "height": 238
        }
      },
      "source": [
        "from sklearn.linear_model import LinearRegression\n",
        "from sklearn.metrics import r2_score\n",
        "from sklearn.ensemble import RandomForestRegressor\n",
        "\n",
        "models = []\n",
        "models.append((\"LR\",LinearRegression()))\n",
        "models.append((\"XGB\",xgb.XGBRegressor()))\n",
        "models.append((\"RF\",RandomForestRegressor()))\n",
        "\n",
        "for name,model in models:\n",
        "  print(\"Model Name:\",name)\n",
        "  model.fit(X_train,y_train)\n",
        "  pred=model.predict(X_test)\n",
        "  print('R2 Score:',r2_score(pred,y_test))\n",
        "  print('Mean Absolute Error:',mean_absolute_error(pred,y_test))\n",
        "  print(('-')*50)\n",
        "\n",
        "\n",
        "# lr=LinearRegression()\n",
        "# lr.fit(X_train,y_train)"
      ],
      "execution_count": 148,
      "outputs": [
        {
          "output_type": "stream",
          "text": [
            "Model Name: LR\n",
            "R2 Score: -8.833231983905861\n",
            "Mean Absolute Error: 14581.569403402156\n",
            "--------------------------------------------------\n",
            "Model Name: XGB\n",
            "[18:31:07] WARNING: /workspace/src/objective/regression_obj.cu:152: reg:linear is now deprecated in favor of reg:squarederror.\n",
            "R2 Score: 0.547230720835516\n",
            "Mean Absolute Error: 6857.986236785051\n",
            "--------------------------------------------------\n",
            "Model Name: RF\n",
            "R2 Score: 0.9774728796332305\n",
            "Mean Absolute Error: 1358.6386717057665\n",
            "--------------------------------------------------\n"
          ],
          "name": "stdout"
        }
      ]
    },
    {
      "cell_type": "markdown",
      "metadata": {
        "id": "VffxSJDtSsWe"
      },
      "source": [
        "From this we can see that Random Forest Regressor gives the better R2 error and Mean Absolute error."
      ]
    },
    {
      "cell_type": "markdown",
      "metadata": {
        "id": "X1Ug0dHWTdAk"
      },
      "source": [
        "So we will use Random Forest regressor on Test data"
      ]
    },
    {
      "cell_type": "code",
      "metadata": {
        "id": "sHxtK9jpreI1",
        "outputId": "bd50974f-b049-49eb-d283-255c7702c5ca",
        "colab": {
          "base_uri": "https://localhost:8080/",
          "height": 204
        }
      },
      "source": [
        "test=pd.read_csv('drive/My Drive/walmart/test.csv')\n",
        "test.head()"
      ],
      "execution_count": 91,
      "outputs": [
        {
          "output_type": "execute_result",
          "data": {
            "text/html": [
              "<div>\n",
              "<style scoped>\n",
              "    .dataframe tbody tr th:only-of-type {\n",
              "        vertical-align: middle;\n",
              "    }\n",
              "\n",
              "    .dataframe tbody tr th {\n",
              "        vertical-align: top;\n",
              "    }\n",
              "\n",
              "    .dataframe thead th {\n",
              "        text-align: right;\n",
              "    }\n",
              "</style>\n",
              "<table border=\"1\" class=\"dataframe\">\n",
              "  <thead>\n",
              "    <tr style=\"text-align: right;\">\n",
              "      <th></th>\n",
              "      <th>Store</th>\n",
              "      <th>Dept</th>\n",
              "      <th>Date</th>\n",
              "      <th>IsHoliday</th>\n",
              "    </tr>\n",
              "  </thead>\n",
              "  <tbody>\n",
              "    <tr>\n",
              "      <th>0</th>\n",
              "      <td>1</td>\n",
              "      <td>1</td>\n",
              "      <td>2012-11-02</td>\n",
              "      <td>False</td>\n",
              "    </tr>\n",
              "    <tr>\n",
              "      <th>1</th>\n",
              "      <td>1</td>\n",
              "      <td>1</td>\n",
              "      <td>2012-11-09</td>\n",
              "      <td>False</td>\n",
              "    </tr>\n",
              "    <tr>\n",
              "      <th>2</th>\n",
              "      <td>1</td>\n",
              "      <td>1</td>\n",
              "      <td>2012-11-16</td>\n",
              "      <td>False</td>\n",
              "    </tr>\n",
              "    <tr>\n",
              "      <th>3</th>\n",
              "      <td>1</td>\n",
              "      <td>1</td>\n",
              "      <td>2012-11-23</td>\n",
              "      <td>True</td>\n",
              "    </tr>\n",
              "    <tr>\n",
              "      <th>4</th>\n",
              "      <td>1</td>\n",
              "      <td>1</td>\n",
              "      <td>2012-11-30</td>\n",
              "      <td>False</td>\n",
              "    </tr>\n",
              "  </tbody>\n",
              "</table>\n",
              "</div>"
            ],
            "text/plain": [
              "   Store  Dept        Date  IsHoliday\n",
              "0      1     1  2012-11-02      False\n",
              "1      1     1  2012-11-09      False\n",
              "2      1     1  2012-11-16      False\n",
              "3      1     1  2012-11-23       True\n",
              "4      1     1  2012-11-30      False"
            ]
          },
          "metadata": {
            "tags": []
          },
          "execution_count": 91
        }
      ]
    },
    {
      "cell_type": "code",
      "metadata": {
        "id": "mrpXzzBHuBc1",
        "outputId": "b9cdbd44-d718-43c5-b267-9757d2c3ba5b",
        "colab": {
          "base_uri": "https://localhost:8080/",
          "height": 221
        }
      },
      "source": [
        "test_df = test.merge(stores, how='left').merge(features, how='left')\n",
        "print(test_df.shape)\n",
        "test_df.head()"
      ],
      "execution_count": 92,
      "outputs": [
        {
          "output_type": "stream",
          "text": [
            "(115064, 15)\n"
          ],
          "name": "stdout"
        },
        {
          "output_type": "execute_result",
          "data": {
            "text/html": [
              "<div>\n",
              "<style scoped>\n",
              "    .dataframe tbody tr th:only-of-type {\n",
              "        vertical-align: middle;\n",
              "    }\n",
              "\n",
              "    .dataframe tbody tr th {\n",
              "        vertical-align: top;\n",
              "    }\n",
              "\n",
              "    .dataframe thead th {\n",
              "        text-align: right;\n",
              "    }\n",
              "</style>\n",
              "<table border=\"1\" class=\"dataframe\">\n",
              "  <thead>\n",
              "    <tr style=\"text-align: right;\">\n",
              "      <th></th>\n",
              "      <th>Store</th>\n",
              "      <th>Dept</th>\n",
              "      <th>Date</th>\n",
              "      <th>IsHoliday</th>\n",
              "      <th>Type</th>\n",
              "      <th>Size</th>\n",
              "      <th>Temperature</th>\n",
              "      <th>Fuel_Price</th>\n",
              "      <th>MarkDown1</th>\n",
              "      <th>MarkDown2</th>\n",
              "      <th>MarkDown3</th>\n",
              "      <th>MarkDown4</th>\n",
              "      <th>MarkDown5</th>\n",
              "      <th>CPI</th>\n",
              "      <th>Unemployment</th>\n",
              "    </tr>\n",
              "  </thead>\n",
              "  <tbody>\n",
              "    <tr>\n",
              "      <th>0</th>\n",
              "      <td>1</td>\n",
              "      <td>1</td>\n",
              "      <td>2012-11-02</td>\n",
              "      <td>False</td>\n",
              "      <td>A</td>\n",
              "      <td>151315</td>\n",
              "      <td>55.32</td>\n",
              "      <td>3.386</td>\n",
              "      <td>6766.44</td>\n",
              "      <td>5147.70</td>\n",
              "      <td>50.82</td>\n",
              "      <td>3639.90</td>\n",
              "      <td>2737.42</td>\n",
              "      <td>223.462779</td>\n",
              "      <td>6.573</td>\n",
              "    </tr>\n",
              "    <tr>\n",
              "      <th>1</th>\n",
              "      <td>1</td>\n",
              "      <td>1</td>\n",
              "      <td>2012-11-09</td>\n",
              "      <td>False</td>\n",
              "      <td>A</td>\n",
              "      <td>151315</td>\n",
              "      <td>61.24</td>\n",
              "      <td>3.314</td>\n",
              "      <td>11421.32</td>\n",
              "      <td>3370.89</td>\n",
              "      <td>40.28</td>\n",
              "      <td>4646.79</td>\n",
              "      <td>6154.16</td>\n",
              "      <td>223.481307</td>\n",
              "      <td>6.573</td>\n",
              "    </tr>\n",
              "    <tr>\n",
              "      <th>2</th>\n",
              "      <td>1</td>\n",
              "      <td>1</td>\n",
              "      <td>2012-11-16</td>\n",
              "      <td>False</td>\n",
              "      <td>A</td>\n",
              "      <td>151315</td>\n",
              "      <td>52.92</td>\n",
              "      <td>3.252</td>\n",
              "      <td>9696.28</td>\n",
              "      <td>292.10</td>\n",
              "      <td>103.78</td>\n",
              "      <td>1133.15</td>\n",
              "      <td>6612.69</td>\n",
              "      <td>223.512911</td>\n",
              "      <td>6.573</td>\n",
              "    </tr>\n",
              "    <tr>\n",
              "      <th>3</th>\n",
              "      <td>1</td>\n",
              "      <td>1</td>\n",
              "      <td>2012-11-23</td>\n",
              "      <td>True</td>\n",
              "      <td>A</td>\n",
              "      <td>151315</td>\n",
              "      <td>56.23</td>\n",
              "      <td>3.211</td>\n",
              "      <td>883.59</td>\n",
              "      <td>4.17</td>\n",
              "      <td>74910.32</td>\n",
              "      <td>209.91</td>\n",
              "      <td>303.32</td>\n",
              "      <td>223.561947</td>\n",
              "      <td>6.573</td>\n",
              "    </tr>\n",
              "    <tr>\n",
              "      <th>4</th>\n",
              "      <td>1</td>\n",
              "      <td>1</td>\n",
              "      <td>2012-11-30</td>\n",
              "      <td>False</td>\n",
              "      <td>A</td>\n",
              "      <td>151315</td>\n",
              "      <td>52.34</td>\n",
              "      <td>3.207</td>\n",
              "      <td>2460.03</td>\n",
              "      <td>NaN</td>\n",
              "      <td>3838.35</td>\n",
              "      <td>150.57</td>\n",
              "      <td>6966.34</td>\n",
              "      <td>223.610984</td>\n",
              "      <td>6.573</td>\n",
              "    </tr>\n",
              "  </tbody>\n",
              "</table>\n",
              "</div>"
            ],
            "text/plain": [
              "   Store  Dept        Date  ...  MarkDown5         CPI  Unemployment\n",
              "0      1     1  2012-11-02  ...    2737.42  223.462779         6.573\n",
              "1      1     1  2012-11-09  ...    6154.16  223.481307         6.573\n",
              "2      1     1  2012-11-16  ...    6612.69  223.512911         6.573\n",
              "3      1     1  2012-11-23  ...     303.32  223.561947         6.573\n",
              "4      1     1  2012-11-30  ...    6966.34  223.610984         6.573\n",
              "\n",
              "[5 rows x 15 columns]"
            ]
          },
          "metadata": {
            "tags": []
          },
          "execution_count": 92
        }
      ]
    },
    {
      "cell_type": "code",
      "metadata": {
        "id": "P0UlKMaRuYG6",
        "outputId": "7957cf68-d79b-495a-dd33-2bda31149766",
        "colab": {
          "base_uri": "https://localhost:8080/",
          "height": 289
        }
      },
      "source": [
        "test_df.isnull().sum()"
      ],
      "execution_count": 93,
      "outputs": [
        {
          "output_type": "execute_result",
          "data": {
            "text/plain": [
              "Store               0\n",
              "Dept                0\n",
              "Date                0\n",
              "IsHoliday           0\n",
              "Type                0\n",
              "Size                0\n",
              "Temperature         0\n",
              "Fuel_Price          0\n",
              "MarkDown1         149\n",
              "MarkDown2       28627\n",
              "MarkDown3        9829\n",
              "MarkDown4       12888\n",
              "MarkDown5           0\n",
              "CPI             38162\n",
              "Unemployment    38162\n",
              "dtype: int64"
            ]
          },
          "metadata": {
            "tags": []
          },
          "execution_count": 93
        }
      ]
    },
    {
      "cell_type": "code",
      "metadata": {
        "id": "UQDCDNMZuqy3"
      },
      "source": [
        "test_df['Unemployment'].fillna(test_df['Unemployment'].median(),inplace=True)\n",
        "test_df['CPI'].fillna(test_df['CPI'].median(),inplace=True)\n",
        "test_df['MarkDown1'].fillna(test_df['MarkDown1'].median(),inplace=True)\n",
        "test_df['MarkDown2'].fillna(test_df['MarkDown2'].median(),inplace=True)\n",
        "test_df['MarkDown3'].fillna(test_df['MarkDown3'].median(),inplace=True)\n",
        "test_df['MarkDown4'].fillna(test_df['MarkDown4'].median(),inplace=True)\n",
        "test_df['MarkDown5'].fillna(test_df['MarkDown5'].median(),inplace=True)"
      ],
      "execution_count": 100,
      "outputs": []
    },
    {
      "cell_type": "code",
      "metadata": {
        "id": "Lrk4uNdYu5dH",
        "outputId": "8298f8b3-cc3b-4cf6-9dbc-aef1b35062be",
        "colab": {
          "base_uri": "https://localhost:8080/",
          "height": 289
        }
      },
      "source": [
        "test_df.isnull().sum()"
      ],
      "execution_count": 101,
      "outputs": [
        {
          "output_type": "execute_result",
          "data": {
            "text/plain": [
              "Store           0\n",
              "Dept            0\n",
              "Date            0\n",
              "IsHoliday       0\n",
              "Type            0\n",
              "Size            0\n",
              "Temperature     0\n",
              "Fuel_Price      0\n",
              "MarkDown1       0\n",
              "MarkDown2       0\n",
              "MarkDown3       0\n",
              "MarkDown4       0\n",
              "MarkDown5       0\n",
              "CPI             0\n",
              "Unemployment    0\n",
              "dtype: int64"
            ]
          },
          "metadata": {
            "tags": []
          },
          "execution_count": 101
        }
      ]
    },
    {
      "cell_type": "code",
      "metadata": {
        "id": "YDFGHccDyUlI"
      },
      "source": [
        "test_df['year']=pd.DatetimeIndex(test_df['Date']).year\n",
        "test_df['month']=pd.DatetimeIndex(test_df['Date']).month\n",
        "test_df['day']=pd.DatetimeIndex(test_df['Date']).day\n",
        "\n",
        "\n"
      ],
      "execution_count": 103,
      "outputs": []
    },
    {
      "cell_type": "code",
      "metadata": {
        "id": "5wcyakWMysuA",
        "outputId": "2725026a-8ba1-4b98-9711-bd4f7630a0a3",
        "colab": {
          "base_uri": "https://localhost:8080/",
          "height": 34
        }
      },
      "source": [
        "categorical_features=[feature for feature in test_df.columns if (test_df[feature].dtypes=='O') or  (test_df[feature].dtypes=='bool') if feature not in 'Date']\n",
        "categorical_features"
      ],
      "execution_count": 104,
      "outputs": [
        {
          "output_type": "execute_result",
          "data": {
            "text/plain": [
              "['IsHoliday', 'Type']"
            ]
          },
          "metadata": {
            "tags": []
          },
          "execution_count": 104
        }
      ]
    },
    {
      "cell_type": "code",
      "metadata": {
        "id": "YOndqYGwY-vK"
      },
      "source": [
        "  # for feature in categorical_features:\n",
        "  # data[feature]=pd.get_dummies(feature)\n",
        "test_df=pd.get_dummies(test_df, columns = categorical_features)\n",
        "test_df"
      ],
      "execution_count": null,
      "outputs": []
    },
    {
      "cell_type": "code",
      "metadata": {
        "id": "YwZ3JSM6zmGz",
        "outputId": "69b4b09c-e762-4891-87d8-b7dadc402ecc",
        "colab": {
          "base_uri": "https://localhost:8080/",
          "height": 102
        }
      },
      "source": [
        "data.columns"
      ],
      "execution_count": 109,
      "outputs": [
        {
          "output_type": "execute_result",
          "data": {
            "text/plain": [
              "Index(['Store', 'Dept', 'Size', 'Temperature', 'Fuel_Price', 'MarkDown1',\n",
              "       'MarkDown2', 'MarkDown3', 'MarkDown4', 'MarkDown5', 'CPI',\n",
              "       'Unemployment', 'year', 'month', 'day', 'IsHoliday_False',\n",
              "       'IsHoliday_True', 'Type_A', 'Type_B', 'Type_C'],\n",
              "      dtype='object')"
            ]
          },
          "metadata": {
            "tags": []
          },
          "execution_count": 109
        }
      ]
    },
    {
      "cell_type": "code",
      "metadata": {
        "id": "vZ884K6SzQ7n",
        "outputId": "80cb5ac3-e872-46a0-cf65-a5b3d6090350",
        "colab": {
          "base_uri": "https://localhost:8080/",
          "height": 238
        }
      },
      "source": [
        "scaled_features"
      ],
      "execution_count": 113,
      "outputs": [
        {
          "output_type": "execute_result",
          "data": {
            "text/plain": [
              "array([[-1.65819926, -1.41874236,  0.23920895, ...,  0.97797803,\n",
              "        -0.79593806, -0.3352628 ],\n",
              "       [-1.65819926, -1.41874236,  0.23920895, ...,  0.97797803,\n",
              "        -0.79593806, -0.3352628 ],\n",
              "       [-1.65819926, -1.41874236,  0.23920895, ...,  0.97797803,\n",
              "        -0.79593806, -0.3352628 ],\n",
              "       ...,\n",
              "       [ 1.78325781,  1.76241805, -0.30348902, ..., -1.02251786,\n",
              "         1.25637918, -0.3352628 ],\n",
              "       [ 1.78325781,  1.76241805, -0.30348902, ..., -1.02251786,\n",
              "         1.25637918, -0.3352628 ],\n",
              "       [ 1.78325781,  1.76241805, -0.30348902, ..., -1.02251786,\n",
              "         1.25637918, -0.3352628 ]])"
            ]
          },
          "metadata": {
            "tags": []
          },
          "execution_count": 113
        }
      ]
    },
    {
      "cell_type": "code",
      "metadata": {
        "id": "SSVCtBNg0bIi"
      },
      "source": [
        "test_df=test_df[selected_feat]"
      ],
      "execution_count": 126,
      "outputs": []
    },
    {
      "cell_type": "code",
      "metadata": {
        "id": "ehL5U4IL2Yug",
        "outputId": "c3294981-5e98-40f1-a5ea-b73107b1ff8a",
        "colab": {
          "base_uri": "https://localhost:8080/",
          "height": 439
        }
      },
      "source": [
        "test_scaled_features = StandardScaler().fit_transform(test_df.values)\n",
        "test_scaled_features_df = pd.DataFrame(test_scaled_features, index=test_df.index, columns=test_df.columns)\n",
        "test_scaled_features_df"
      ],
      "execution_count": 128,
      "outputs": [
        {
          "output_type": "execute_result",
          "data": {
            "text/html": [
              "<div>\n",
              "<style scoped>\n",
              "    .dataframe tbody tr th:only-of-type {\n",
              "        vertical-align: middle;\n",
              "    }\n",
              "\n",
              "    .dataframe tbody tr th {\n",
              "        vertical-align: top;\n",
              "    }\n",
              "\n",
              "    .dataframe thead th {\n",
              "        text-align: right;\n",
              "    }\n",
              "</style>\n",
              "<table border=\"1\" class=\"dataframe\">\n",
              "  <thead>\n",
              "    <tr style=\"text-align: right;\">\n",
              "      <th></th>\n",
              "      <th>Store</th>\n",
              "      <th>Dept</th>\n",
              "      <th>Size</th>\n",
              "      <th>Temperature</th>\n",
              "      <th>Fuel_Price</th>\n",
              "      <th>MarkDown1</th>\n",
              "      <th>MarkDown2</th>\n",
              "      <th>MarkDown3</th>\n",
              "      <th>MarkDown4</th>\n",
              "      <th>MarkDown5</th>\n",
              "      <th>CPI</th>\n",
              "      <th>Unemployment</th>\n",
              "      <th>year</th>\n",
              "      <th>month</th>\n",
              "      <th>day</th>\n",
              "      <th>IsHoliday_False</th>\n",
              "      <th>Type_A</th>\n",
              "      <th>Type_B</th>\n",
              "      <th>Type_C</th>\n",
              "    </tr>\n",
              "  </thead>\n",
              "  <tbody>\n",
              "    <tr>\n",
              "      <th>0</th>\n",
              "      <td>-1.657956</td>\n",
              "      <td>-1.413724</td>\n",
              "      <td>0.242483</td>\n",
              "      <td>0.073606</td>\n",
              "      <td>-0.816679</td>\n",
              "      <td>-0.085958</td>\n",
              "      <td>0.294428</td>\n",
              "      <td>-0.163371</td>\n",
              "      <td>0.078771</td>\n",
              "      <td>-0.060954</td>\n",
              "      <td>1.201083</td>\n",
              "      <td>-0.212329</td>\n",
              "      <td>-1.815267</td>\n",
              "      <td>1.467878</td>\n",
              "      <td>-1.535754</td>\n",
              "      <td>0.290032</td>\n",
              "      <td>0.979679</td>\n",
              "      <td>-0.794124</td>\n",
              "      <td>-0.338852</td>\n",
              "    </tr>\n",
              "    <tr>\n",
              "      <th>1</th>\n",
              "      <td>-1.657956</td>\n",
              "      <td>-1.413724</td>\n",
              "      <td>0.242483</td>\n",
              "      <td>0.389776</td>\n",
              "      <td>-1.117379</td>\n",
              "      <td>0.349392</td>\n",
              "      <td>0.051997</td>\n",
              "      <td>-0.164171</td>\n",
              "      <td>0.219048</td>\n",
              "      <td>0.114758</td>\n",
              "      <td>1.201620</td>\n",
              "      <td>-0.212329</td>\n",
              "      <td>-1.815267</td>\n",
              "      <td>1.467878</td>\n",
              "      <td>-0.744335</td>\n",
              "      <td>0.290032</td>\n",
              "      <td>0.979679</td>\n",
              "      <td>-0.794124</td>\n",
              "      <td>-0.338852</td>\n",
              "    </tr>\n",
              "    <tr>\n",
              "      <th>2</th>\n",
              "      <td>-1.657956</td>\n",
              "      <td>-1.413724</td>\n",
              "      <td>0.242483</td>\n",
              "      <td>-0.054572</td>\n",
              "      <td>-1.376316</td>\n",
              "      <td>0.188056</td>\n",
              "      <td>-0.368080</td>\n",
              "      <td>-0.159354</td>\n",
              "      <td>-0.270462</td>\n",
              "      <td>0.138339</td>\n",
              "      <td>1.202537</td>\n",
              "      <td>-0.212329</td>\n",
              "      <td>-1.815267</td>\n",
              "      <td>1.467878</td>\n",
              "      <td>0.047085</td>\n",
              "      <td>0.290032</td>\n",
              "      <td>0.979679</td>\n",
              "      <td>-0.794124</td>\n",
              "      <td>-0.338852</td>\n",
              "    </tr>\n",
              "    <tr>\n",
              "      <th>3</th>\n",
              "      <td>-1.657956</td>\n",
              "      <td>-1.413724</td>\n",
              "      <td>0.242483</td>\n",
              "      <td>0.122206</td>\n",
              "      <td>-1.547548</td>\n",
              "      <td>-0.636155</td>\n",
              "      <td>-0.407365</td>\n",
              "      <td>5.515231</td>\n",
              "      <td>-0.399085</td>\n",
              "      <td>-0.186133</td>\n",
              "      <td>1.203959</td>\n",
              "      <td>-0.212329</td>\n",
              "      <td>-1.815267</td>\n",
              "      <td>1.467878</td>\n",
              "      <td>0.838505</td>\n",
              "      <td>-3.447897</td>\n",
              "      <td>0.979679</td>\n",
              "      <td>-0.794124</td>\n",
              "      <td>-0.338852</td>\n",
              "    </tr>\n",
              "    <tr>\n",
              "      <th>4</th>\n",
              "      <td>-1.657956</td>\n",
              "      <td>-1.413724</td>\n",
              "      <td>0.242483</td>\n",
              "      <td>-0.085548</td>\n",
              "      <td>-1.564254</td>\n",
              "      <td>-0.488717</td>\n",
              "      <td>-0.306614</td>\n",
              "      <td>0.123939</td>\n",
              "      <td>-0.407352</td>\n",
              "      <td>0.156526</td>\n",
              "      <td>1.205381</td>\n",
              "      <td>-0.212329</td>\n",
              "      <td>-1.815267</td>\n",
              "      <td>1.467878</td>\n",
              "      <td>1.629925</td>\n",
              "      <td>0.290032</td>\n",
              "      <td>0.979679</td>\n",
              "      <td>-0.794124</td>\n",
              "      <td>-0.338852</td>\n",
              "    </tr>\n",
              "    <tr>\n",
              "      <th>...</th>\n",
              "      <td>...</td>\n",
              "      <td>...</td>\n",
              "      <td>...</td>\n",
              "      <td>...</td>\n",
              "      <td>...</td>\n",
              "      <td>...</td>\n",
              "      <td>...</td>\n",
              "      <td>...</td>\n",
              "      <td>...</td>\n",
              "      <td>...</td>\n",
              "      <td>...</td>\n",
              "      <td>...</td>\n",
              "      <td>...</td>\n",
              "      <td>...</td>\n",
              "      <td>...</td>\n",
              "      <td>...</td>\n",
              "      <td>...</td>\n",
              "      <td>...</td>\n",
              "      <td>...</td>\n",
              "    </tr>\n",
              "    <tr>\n",
              "      <th>115059</th>\n",
              "      <td>1.776894</td>\n",
              "      <td>1.750391</td>\n",
              "      <td>-0.299095</td>\n",
              "      <td>1.180737</td>\n",
              "      <td>0.239949</td>\n",
              "      <td>-0.265915</td>\n",
              "      <td>-0.274899</td>\n",
              "      <td>-0.166999</td>\n",
              "      <td>-0.087006</td>\n",
              "      <td>-0.038724</td>\n",
              "      <td>0.297406</td>\n",
              "      <td>-0.032381</td>\n",
              "      <td>0.550883</td>\n",
              "      <td>0.075243</td>\n",
              "      <td>1.403805</td>\n",
              "      <td>0.290032</td>\n",
              "      <td>-1.020743</td>\n",
              "      <td>1.259249</td>\n",
              "      <td>-0.338852</td>\n",
              "    </tr>\n",
              "    <tr>\n",
              "      <th>115060</th>\n",
              "      <td>1.776894</td>\n",
              "      <td>1.750391</td>\n",
              "      <td>-0.299095</td>\n",
              "      <td>1.258177</td>\n",
              "      <td>0.135539</td>\n",
              "      <td>0.131399</td>\n",
              "      <td>-0.098405</td>\n",
              "      <td>-0.123021</td>\n",
              "      <td>0.379358</td>\n",
              "      <td>-0.123823</td>\n",
              "      <td>0.297406</td>\n",
              "      <td>-0.032381</td>\n",
              "      <td>0.550883</td>\n",
              "      <td>0.353770</td>\n",
              "      <td>-1.196574</td>\n",
              "      <td>0.290032</td>\n",
              "      <td>-1.020743</td>\n",
              "      <td>1.259249</td>\n",
              "      <td>-0.338852</td>\n",
              "    </tr>\n",
              "    <tr>\n",
              "      <th>115061</th>\n",
              "      <td>1.776894</td>\n",
              "      <td>1.750391</td>\n",
              "      <td>-0.299095</td>\n",
              "      <td>1.358048</td>\n",
              "      <td>0.135539</td>\n",
              "      <td>-0.364337</td>\n",
              "      <td>-0.158612</td>\n",
              "      <td>-0.160724</td>\n",
              "      <td>-0.324560</td>\n",
              "      <td>-0.091145</td>\n",
              "      <td>0.297406</td>\n",
              "      <td>-0.032381</td>\n",
              "      <td>0.550883</td>\n",
              "      <td>0.353770</td>\n",
              "      <td>-0.405155</td>\n",
              "      <td>0.290032</td>\n",
              "      <td>-1.020743</td>\n",
              "      <td>1.259249</td>\n",
              "      <td>-0.338852</td>\n",
              "    </tr>\n",
              "    <tr>\n",
              "      <th>115062</th>\n",
              "      <td>1.776894</td>\n",
              "      <td>1.750391</td>\n",
              "      <td>-0.299095</td>\n",
              "      <td>1.543371</td>\n",
              "      <td>0.649236</td>\n",
              "      <td>-0.441818</td>\n",
              "      <td>-0.265070</td>\n",
              "      <td>-0.151737</td>\n",
              "      <td>-0.377757</td>\n",
              "      <td>-0.147247</td>\n",
              "      <td>0.297406</td>\n",
              "      <td>-0.032381</td>\n",
              "      <td>0.550883</td>\n",
              "      <td>0.353770</td>\n",
              "      <td>0.386265</td>\n",
              "      <td>0.290032</td>\n",
              "      <td>-1.020743</td>\n",
              "      <td>1.259249</td>\n",
              "      <td>-0.338852</td>\n",
              "    </tr>\n",
              "    <tr>\n",
              "      <th>115063</th>\n",
              "      <td>1.776894</td>\n",
              "      <td>1.750391</td>\n",
              "      <td>-0.299095</td>\n",
              "      <td>1.181271</td>\n",
              "      <td>0.929055</td>\n",
              "      <td>-0.698963</td>\n",
              "      <td>-0.291723</td>\n",
              "      <td>-0.167070</td>\n",
              "      <td>-0.426813</td>\n",
              "      <td>-0.105842</td>\n",
              "      <td>0.297406</td>\n",
              "      <td>-0.032381</td>\n",
              "      <td>0.550883</td>\n",
              "      <td>0.353770</td>\n",
              "      <td>1.177685</td>\n",
              "      <td>0.290032</td>\n",
              "      <td>-1.020743</td>\n",
              "      <td>1.259249</td>\n",
              "      <td>-0.338852</td>\n",
              "    </tr>\n",
              "  </tbody>\n",
              "</table>\n",
              "<p>115064 rows × 19 columns</p>\n",
              "</div>"
            ],
            "text/plain": [
              "           Store      Dept      Size  ...    Type_A    Type_B    Type_C\n",
              "0      -1.657956 -1.413724  0.242483  ...  0.979679 -0.794124 -0.338852\n",
              "1      -1.657956 -1.413724  0.242483  ...  0.979679 -0.794124 -0.338852\n",
              "2      -1.657956 -1.413724  0.242483  ...  0.979679 -0.794124 -0.338852\n",
              "3      -1.657956 -1.413724  0.242483  ...  0.979679 -0.794124 -0.338852\n",
              "4      -1.657956 -1.413724  0.242483  ...  0.979679 -0.794124 -0.338852\n",
              "...          ...       ...       ...  ...       ...       ...       ...\n",
              "115059  1.776894  1.750391 -0.299095  ... -1.020743  1.259249 -0.338852\n",
              "115060  1.776894  1.750391 -0.299095  ... -1.020743  1.259249 -0.338852\n",
              "115061  1.776894  1.750391 -0.299095  ... -1.020743  1.259249 -0.338852\n",
              "115062  1.776894  1.750391 -0.299095  ... -1.020743  1.259249 -0.338852\n",
              "115063  1.776894  1.750391 -0.299095  ... -1.020743  1.259249 -0.338852\n",
              "\n",
              "[115064 rows x 19 columns]"
            ]
          },
          "metadata": {
            "tags": []
          },
          "execution_count": 128
        }
      ]
    },
    {
      "cell_type": "code",
      "metadata": {
        "id": "f2UozEx1xpAb"
      },
      "source": [
        "final_prediction=model.predict(test_scaled_features_df)"
      ],
      "execution_count": 133,
      "outputs": []
    },
    {
      "cell_type": "code",
      "metadata": {
        "id": "84sgMdC4yF1H",
        "outputId": "4043f220-d3d3-4adc-9eb9-cd0870be7479",
        "colab": {
          "base_uri": "https://localhost:8080/",
          "height": 51
        }
      },
      "source": [
        "final_prediction"
      ],
      "execution_count": 134,
      "outputs": [
        {
          "output_type": "execute_result",
          "data": {
            "text/plain": [
              "array([27085.9744, 23137.5244, 21138.542 , ...,   322.6858,   302.0469,\n",
              "         321.3392])"
            ]
          },
          "metadata": {
            "tags": []
          },
          "execution_count": 134
        }
      ]
    },
    {
      "cell_type": "code",
      "metadata": {
        "id": "fNh-u0YA1E61"
      },
      "source": [
        "dataset_test=pd.DataFrame()"
      ],
      "execution_count": 135,
      "outputs": []
    },
    {
      "cell_type": "code",
      "metadata": {
        "id": "zOGyFVYR0oJE"
      },
      "source": [
        "dataset_test['weeklySales'] = final_prediction\n",
        "dataset_test['Date'] = test['Date']\n",
        "dataset_test['id'] = test['Store'].astype(str) + '_' +  test['Dept'].astype(str) + '_' +  test['Date'].astype(str)\n",
        "dataset_test = dataset_test[['id', 'weeklySales']]\n",
        "dataset_test = dataset_test.rename(columns={'id': 'Id', 'weeklySales': 'Weekly_Sales'})"
      ],
      "execution_count": 136,
      "outputs": []
    },
    {
      "cell_type": "code",
      "metadata": {
        "id": "ZtNo8cfL1AkA",
        "outputId": "85927a49-8b10-4b58-af2e-bf394bb1a936",
        "colab": {
          "base_uri": "https://localhost:8080/",
          "height": 419
        }
      },
      "source": [
        "dataset_test"
      ],
      "execution_count": 137,
      "outputs": [
        {
          "output_type": "execute_result",
          "data": {
            "text/html": [
              "<div>\n",
              "<style scoped>\n",
              "    .dataframe tbody tr th:only-of-type {\n",
              "        vertical-align: middle;\n",
              "    }\n",
              "\n",
              "    .dataframe tbody tr th {\n",
              "        vertical-align: top;\n",
              "    }\n",
              "\n",
              "    .dataframe thead th {\n",
              "        text-align: right;\n",
              "    }\n",
              "</style>\n",
              "<table border=\"1\" class=\"dataframe\">\n",
              "  <thead>\n",
              "    <tr style=\"text-align: right;\">\n",
              "      <th></th>\n",
              "      <th>Id</th>\n",
              "      <th>Weekly_Sales</th>\n",
              "    </tr>\n",
              "  </thead>\n",
              "  <tbody>\n",
              "    <tr>\n",
              "      <th>0</th>\n",
              "      <td>1_1_2012-11-02</td>\n",
              "      <td>27085.9744</td>\n",
              "    </tr>\n",
              "    <tr>\n",
              "      <th>1</th>\n",
              "      <td>1_1_2012-11-09</td>\n",
              "      <td>23137.5244</td>\n",
              "    </tr>\n",
              "    <tr>\n",
              "      <th>2</th>\n",
              "      <td>1_1_2012-11-16</td>\n",
              "      <td>21138.5420</td>\n",
              "    </tr>\n",
              "    <tr>\n",
              "      <th>3</th>\n",
              "      <td>1_1_2012-11-23</td>\n",
              "      <td>23516.7908</td>\n",
              "    </tr>\n",
              "    <tr>\n",
              "      <th>4</th>\n",
              "      <td>1_1_2012-11-30</td>\n",
              "      <td>33390.7328</td>\n",
              "    </tr>\n",
              "    <tr>\n",
              "      <th>...</th>\n",
              "      <td>...</td>\n",
              "      <td>...</td>\n",
              "    </tr>\n",
              "    <tr>\n",
              "      <th>115059</th>\n",
              "      <td>45_98_2013-06-28</td>\n",
              "      <td>314.0070</td>\n",
              "    </tr>\n",
              "    <tr>\n",
              "      <th>115060</th>\n",
              "      <td>45_98_2013-07-05</td>\n",
              "      <td>353.8625</td>\n",
              "    </tr>\n",
              "    <tr>\n",
              "      <th>115061</th>\n",
              "      <td>45_98_2013-07-12</td>\n",
              "      <td>322.6858</td>\n",
              "    </tr>\n",
              "    <tr>\n",
              "      <th>115062</th>\n",
              "      <td>45_98_2013-07-19</td>\n",
              "      <td>302.0469</td>\n",
              "    </tr>\n",
              "    <tr>\n",
              "      <th>115063</th>\n",
              "      <td>45_98_2013-07-26</td>\n",
              "      <td>321.3392</td>\n",
              "    </tr>\n",
              "  </tbody>\n",
              "</table>\n",
              "<p>115064 rows × 2 columns</p>\n",
              "</div>"
            ],
            "text/plain": [
              "                      Id  Weekly_Sales\n",
              "0         1_1_2012-11-02    27085.9744\n",
              "1         1_1_2012-11-09    23137.5244\n",
              "2         1_1_2012-11-16    21138.5420\n",
              "3         1_1_2012-11-23    23516.7908\n",
              "4         1_1_2012-11-30    33390.7328\n",
              "...                  ...           ...\n",
              "115059  45_98_2013-06-28      314.0070\n",
              "115060  45_98_2013-07-05      353.8625\n",
              "115061  45_98_2013-07-12      322.6858\n",
              "115062  45_98_2013-07-19      302.0469\n",
              "115063  45_98_2013-07-26      321.3392\n",
              "\n",
              "[115064 rows x 2 columns]"
            ]
          },
          "metadata": {
            "tags": []
          },
          "execution_count": 137
        }
      ]
    },
    {
      "cell_type": "markdown",
      "metadata": {
        "id": "uoVamB_W1dbP"
      },
      "source": [
        "dataset_test.to_csv('output.csv', index=False)"
      ]
    }
  ]
}